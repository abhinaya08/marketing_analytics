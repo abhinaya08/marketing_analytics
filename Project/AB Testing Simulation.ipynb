{
 "cells": [
  {
   "cell_type": "markdown",
   "metadata": {},
   "source": [
    "# Data Exporation"
   ]
  },
  {
   "cell_type": "code",
   "execution_count": 1,
   "metadata": {},
   "outputs": [],
   "source": [
    "#import necessary packages\n",
    "import pandas as pd\n",
    "import numpy as np\n",
    "%matplotlib inline\n",
    "from matplotlib import pyplot as plt\n",
    "import seaborn as sns"
   ]
  },
  {
   "cell_type": "code",
   "execution_count": 2,
   "metadata": {},
   "outputs": [],
   "source": [
    "movie_df = pd.read_csv('u.item', sep='|', header=None, encoding='latin1', index_col=False,\n",
    "                   names=['movie_id',\n",
    "                          'movie_title',\n",
    "                          'release_date',\n",
    "                          'video_release_date',\n",
    "                          'imdb_url',\n",
    "                          'unknown',\n",
    "                          'action',\n",
    "                          'adventure',\n",
    "                          'animation',\n",
    "                          'children',\n",
    "                          'comedy',\n",
    "                          'crime',\n",
    "                          'documentary',\n",
    "                          'drama',\n",
    "                          'fantasy',\n",
    "                          'film_noir',\n",
    "                          'horror',\n",
    "                          'musical',\n",
    "                          'mystery'\n",
    "                          'romance',\n",
    "                          'sci_fi',\n",
    "                          'thriller',\n",
    "                          'war',\n",
    "                          'western'])\n",
    "\n",
    "movie_df.movie_id -= 1 # make this column zero-indexed"
   ]
  },
  {
   "cell_type": "code",
   "execution_count": 3,
   "metadata": {},
   "outputs": [],
   "source": [
    "rating_df = pd.read_csv('u.data', sep='\\t', header=None, names=['user_id','movie_id','rating','timestamp'])\n",
    "rating_df.user_id -= 1 # make this column zero-indexed\n",
    "rating_df.movie_id -= 1 # make this column zero-indexed"
   ]
  },
  {
   "cell_type": "code",
   "execution_count": 4,
   "metadata": {},
   "outputs": [
    {
     "data": {
      "text/html": [
       "<div>\n",
       "<style scoped>\n",
       "    .dataframe tbody tr th:only-of-type {\n",
       "        vertical-align: middle;\n",
       "    }\n",
       "\n",
       "    .dataframe tbody tr th {\n",
       "        vertical-align: top;\n",
       "    }\n",
       "\n",
       "    .dataframe thead th {\n",
       "        text-align: right;\n",
       "    }\n",
       "</style>\n",
       "<table border=\"1\" class=\"dataframe\">\n",
       "  <thead>\n",
       "    <tr style=\"text-align: right;\">\n",
       "      <th></th>\n",
       "      <th>user_id</th>\n",
       "      <th>movie_id</th>\n",
       "      <th>rating</th>\n",
       "      <th>timestamp</th>\n",
       "    </tr>\n",
       "  </thead>\n",
       "  <tbody>\n",
       "    <tr>\n",
       "      <th>0</th>\n",
       "      <td>195</td>\n",
       "      <td>241</td>\n",
       "      <td>3</td>\n",
       "      <td>881250949</td>\n",
       "    </tr>\n",
       "    <tr>\n",
       "      <th>1</th>\n",
       "      <td>185</td>\n",
       "      <td>301</td>\n",
       "      <td>3</td>\n",
       "      <td>891717742</td>\n",
       "    </tr>\n",
       "    <tr>\n",
       "      <th>2</th>\n",
       "      <td>21</td>\n",
       "      <td>376</td>\n",
       "      <td>1</td>\n",
       "      <td>878887116</td>\n",
       "    </tr>\n",
       "    <tr>\n",
       "      <th>3</th>\n",
       "      <td>243</td>\n",
       "      <td>50</td>\n",
       "      <td>2</td>\n",
       "      <td>880606923</td>\n",
       "    </tr>\n",
       "    <tr>\n",
       "      <th>4</th>\n",
       "      <td>165</td>\n",
       "      <td>345</td>\n",
       "      <td>1</td>\n",
       "      <td>886397596</td>\n",
       "    </tr>\n",
       "  </tbody>\n",
       "</table>\n",
       "</div>"
      ],
      "text/plain": [
       "   user_id  movie_id  rating  timestamp\n",
       "0      195       241       3  881250949\n",
       "1      185       301       3  891717742\n",
       "2       21       376       1  878887116\n",
       "3      243        50       2  880606923\n",
       "4      165       345       1  886397596"
      ]
     },
     "execution_count": 4,
     "metadata": {},
     "output_type": "execute_result"
    }
   ],
   "source": [
    "rating_df.head()"
   ]
  },
  {
   "cell_type": "code",
   "execution_count": 5,
   "metadata": {},
   "outputs": [],
   "source": [
    "movie_counts = rating_df.groupby('movie_id')['rating'].count().sort_values(ascending=False)"
   ]
  },
  {
   "cell_type": "code",
   "execution_count": 9,
   "metadata": {},
   "outputs": [],
   "source": [
    "\n",
    "n_movies = 20\n",
    "top_n_movies = rating_df.query('movie_id in {}'.format((movie_counts[:n_movies].index.values.tolist())))"
   ]
  },
  {
   "cell_type": "code",
   "execution_count": 10,
   "metadata": {},
   "outputs": [],
   "source": [
    "# add the movie title for ease of access when plotting\n",
    "# remove the timestamp column because we don't need it\n",
    "top_n_movies = top_n_movies.merge(movie_df[['movie_id','movie_title']], on='movie_id', how='left') \\\n",
    "                           .drop(columns=['timestamp'])"
   ]
  },
  {
   "cell_type": "code",
   "execution_count": 11,
   "metadata": {},
   "outputs": [
    {
     "data": {
      "text/plain": [
       "['Star Trek: First Contact (1996)',\n",
       " 'Toy Story (1995)',\n",
       " 'Silence of the Lambs, The (1991)',\n",
       " 'Fargo (1996)',\n",
       " 'Return of the Jedi (1983)',\n",
       " 'Scream (1996)',\n",
       " 'Jerry Maguire (1996)',\n",
       " 'Liar Liar (1997)',\n",
       " 'Raiders of the Lost Ark (1981)',\n",
       " 'Rock, The (1996)',\n",
       " 'Contact (1997)',\n",
       " 'Empire Strikes Back, The (1980)',\n",
       " 'Godfather, The (1972)',\n",
       " 'Twelve Monkeys (1995)',\n",
       " 'Pulp Fiction (1994)',\n",
       " 'English Patient, The (1996)',\n",
       " 'Star Wars (1977)',\n",
       " 'Independence Day (ID4) (1996)',\n",
       " 'Air Force One (1997)',\n",
       " 'Titanic (1997)']"
      ]
     },
     "execution_count": 11,
     "metadata": {},
     "output_type": "execute_result"
    }
   ],
   "source": [
    "#look at top 50 highest rated movies \n",
    "top_n_movies.movie_title.unique().tolist()"
   ]
  },
  {
   "cell_type": "code",
   "execution_count": 12,
   "metadata": {},
   "outputs": [],
   "source": [
    "rating_counts_by_movie = top_n_movies.groupby(['movie_id','movie_title','rating'], as_index=False) \\\n",
    "                                        .size().to_frame('count') \\\n",
    "                                        .reset_index()"
   ]
  },
  {
   "cell_type": "code",
   "execution_count": 15,
   "metadata": {},
   "outputs": [
    {
     "data": {
      "image/png": "[encoded data removed]",
      "text/plain": [
       "<Figure size 864x576 with 1 Axes>"
      ]
     },
     "metadata": {},
     "output_type": "display_data"
    }
   ],
   "source": [
    "rating_v_count_ax = sns.factorplot(data=rating_counts_by_movie, x='rating', y='count',\n",
    "                                   hue='movie_title', size=8, aspect=1.5, kind='bar', legend=False)\n",
    "\n",
    "plt.title('Rating Histogram for the 20 Movies with the Most Ratings')\n",
    "plt.xlabel('Rating')\n",
    "plt.ylabel('Number of Ratings')\n",
    "\n",
    "plt.legend(title='')\n",
    "\n",
    "plt.show()"
   ]
  },
  {
   "cell_type": "code",
   "execution_count": 17,
   "metadata": {},
   "outputs": [],
   "source": [
    "\n",
    "# movie ratings above this threshold will be counted as a \"like\"\n",
    "reward_threshold = 4"
   ]
  },
  {
   "cell_type": "code",
   "execution_count": 18,
   "metadata": {},
   "outputs": [
    {
     "data": {
      "text/html": [
       "<div>\n",
       "<style scoped>\n",
       "    .dataframe tbody tr th:only-of-type {\n",
       "        vertical-align: middle;\n",
       "    }\n",
       "\n",
       "    .dataframe tbody tr th {\n",
       "        vertical-align: top;\n",
       "    }\n",
       "\n",
       "    .dataframe thead th {\n",
       "        text-align: right;\n",
       "    }\n",
       "</style>\n",
       "<table border=\"1\" class=\"dataframe\">\n",
       "  <thead>\n",
       "    <tr style=\"text-align: right;\">\n",
       "      <th></th>\n",
       "      <th></th>\n",
       "      <th>movie_id</th>\n",
       "      <th>rating</th>\n",
       "      <th>count</th>\n",
       "    </tr>\n",
       "    <tr>\n",
       "      <th>movie_title</th>\n",
       "      <th>liked</th>\n",
       "      <th></th>\n",
       "      <th></th>\n",
       "      <th></th>\n",
       "    </tr>\n",
       "  </thead>\n",
       "  <tbody>\n",
       "    <tr>\n",
       "      <th rowspan=\"2\" valign=\"top\">Air Force One (1997)</th>\n",
       "      <th>False</th>\n",
       "      <td>1196</td>\n",
       "      <td>10</td>\n",
       "      <td>346</td>\n",
       "    </tr>\n",
       "    <tr>\n",
       "      <th>True</th>\n",
       "      <td>299</td>\n",
       "      <td>5</td>\n",
       "      <td>85</td>\n",
       "    </tr>\n",
       "    <tr>\n",
       "      <th rowspan=\"2\" valign=\"top\">Contact (1997)</th>\n",
       "      <th>False</th>\n",
       "      <td>1028</td>\n",
       "      <td>10</td>\n",
       "      <td>377</td>\n",
       "    </tr>\n",
       "    <tr>\n",
       "      <th>True</th>\n",
       "      <td>257</td>\n",
       "      <td>5</td>\n",
       "      <td>132</td>\n",
       "    </tr>\n",
       "    <tr>\n",
       "      <th>Empire Strikes Back, The (1980)</th>\n",
       "      <th>False</th>\n",
       "      <td>684</td>\n",
       "      <td>10</td>\n",
       "      <td>195</td>\n",
       "    </tr>\n",
       "  </tbody>\n",
       "</table>\n",
       "</div>"
      ],
      "text/plain": [
       "                                       movie_id  rating  count\n",
       "movie_title                     liked                         \n",
       "Air Force One (1997)            False      1196      10    346\n",
       "                                True        299       5     85\n",
       "Contact (1997)                  False      1028      10    377\n",
       "                                True        257       5    132\n",
       "Empire Strikes Back, The (1980) False       684      10    195"
      ]
     },
     "execution_count": 18,
     "metadata": {},
     "output_type": "execute_result"
    }
   ],
   "source": [
    "rating_counts_by_movie.eval('liked = rating > @reward_threshold') \\\n",
    "                      .groupby(['movie_title','liked']) \\\n",
    "                      .sum().head()"
   ]
  },
  {
   "cell_type": "code",
   "execution_count": 19,
   "metadata": {},
   "outputs": [
    {
     "data": {
      "text/html": [
       "<div>\n",
       "<style scoped>\n",
       "    .dataframe tbody tr th:only-of-type {\n",
       "        vertical-align: middle;\n",
       "    }\n",
       "\n",
       "    .dataframe tbody tr th {\n",
       "        vertical-align: top;\n",
       "    }\n",
       "\n",
       "    .dataframe thead th {\n",
       "        text-align: right;\n",
       "    }\n",
       "</style>\n",
       "<table border=\"1\" class=\"dataframe\">\n",
       "  <thead>\n",
       "    <tr style=\"text-align: right;\">\n",
       "      <th></th>\n",
       "      <th>movie_title</th>\n",
       "      <th>liked</th>\n",
       "      <th>movie_id</th>\n",
       "      <th>rating</th>\n",
       "      <th>count</th>\n",
       "    </tr>\n",
       "  </thead>\n",
       "  <tbody>\n",
       "    <tr>\n",
       "      <th>0</th>\n",
       "      <td>Air Force One (1997)</td>\n",
       "      <td>False</td>\n",
       "      <td>1196</td>\n",
       "      <td>10</td>\n",
       "      <td>346</td>\n",
       "    </tr>\n",
       "    <tr>\n",
       "      <th>1</th>\n",
       "      <td>Air Force One (1997)</td>\n",
       "      <td>True</td>\n",
       "      <td>299</td>\n",
       "      <td>5</td>\n",
       "      <td>85</td>\n",
       "    </tr>\n",
       "    <tr>\n",
       "      <th>2</th>\n",
       "      <td>Contact (1997)</td>\n",
       "      <td>False</td>\n",
       "      <td>1028</td>\n",
       "      <td>10</td>\n",
       "      <td>377</td>\n",
       "    </tr>\n",
       "    <tr>\n",
       "      <th>3</th>\n",
       "      <td>Contact (1997)</td>\n",
       "      <td>True</td>\n",
       "      <td>257</td>\n",
       "      <td>5</td>\n",
       "      <td>132</td>\n",
       "    </tr>\n",
       "    <tr>\n",
       "      <th>4</th>\n",
       "      <td>Empire Strikes Back, The (1980)</td>\n",
       "      <td>False</td>\n",
       "      <td>684</td>\n",
       "      <td>10</td>\n",
       "      <td>195</td>\n",
       "    </tr>\n",
       "  </tbody>\n",
       "</table>\n",
       "</div>"
      ],
      "text/plain": [
       "                       movie_title  liked  movie_id  rating  count\n",
       "0             Air Force One (1997)  False      1196      10    346\n",
       "1             Air Force One (1997)   True       299       5     85\n",
       "2                   Contact (1997)  False      1028      10    377\n",
       "3                   Contact (1997)   True       257       5    132\n",
       "4  Empire Strikes Back, The (1980)  False       684      10    195"
      ]
     },
     "execution_count": 19,
     "metadata": {},
     "output_type": "execute_result"
    }
   ],
   "source": [
    "rating_counts_by_movie.eval('liked = rating > @reward_threshold') \\\n",
    "                      .groupby(['movie_title','liked'], as_index=False) \\\n",
    "                      .sum().head()"
   ]
  },
  {
   "cell_type": "code",
   "execution_count": 20,
   "metadata": {},
   "outputs": [],
   "source": [
    "total_reward_counts = rating_counts_by_movie.eval('liked = rating > @reward_threshold') \\\n",
    "    .groupby(['movie_id','movie_title','liked'])['count'] \\\n",
    "    .sum() \\\n",
    "    .unstack('liked') \\\n",
    "    .reset_index() \\\n",
    "    .rename(columns={False:'disliked', True:'liked'}) \\\n",
    "    .eval('total = disliked + liked') \\\n",
    "    .eval('like_pct = 100 * liked / total')"
   ]
  },
  {
   "cell_type": "code",
   "execution_count": 21,
   "metadata": {},
   "outputs": [
    {
     "data": {
      "text/html": [
       "<div>\n",
       "<style scoped>\n",
       "    .dataframe tbody tr th:only-of-type {\n",
       "        vertical-align: middle;\n",
       "    }\n",
       "\n",
       "    .dataframe tbody tr th {\n",
       "        vertical-align: top;\n",
       "    }\n",
       "\n",
       "    .dataframe thead th {\n",
       "        text-align: right;\n",
       "    }\n",
       "</style>\n",
       "<table border=\"1\" class=\"dataframe\">\n",
       "  <thead>\n",
       "    <tr style=\"text-align: right;\">\n",
       "      <th>liked</th>\n",
       "      <th>movie_id</th>\n",
       "      <th>movie_title</th>\n",
       "      <th>disliked</th>\n",
       "      <th>liked</th>\n",
       "      <th>total</th>\n",
       "      <th>like_pct</th>\n",
       "    </tr>\n",
       "  </thead>\n",
       "  <tbody>\n",
       "    <tr>\n",
       "      <th>2</th>\n",
       "      <td>49</td>\n",
       "      <td>Star Wars (1977)</td>\n",
       "      <td>258</td>\n",
       "      <td>325</td>\n",
       "      <td>583</td>\n",
       "      <td>55.746141</td>\n",
       "    </tr>\n",
       "    <tr>\n",
       "      <th>8</th>\n",
       "      <td>126</td>\n",
       "      <td>Godfather, The (1972)</td>\n",
       "      <td>199</td>\n",
       "      <td>214</td>\n",
       "      <td>413</td>\n",
       "      <td>51.815981</td>\n",
       "    </tr>\n",
       "    <tr>\n",
       "      <th>19</th>\n",
       "      <td>312</td>\n",
       "      <td>Titanic (1997)</td>\n",
       "      <td>171</td>\n",
       "      <td>179</td>\n",
       "      <td>350</td>\n",
       "      <td>51.142857</td>\n",
       "    </tr>\n",
       "    <tr>\n",
       "      <th>10</th>\n",
       "      <td>173</td>\n",
       "      <td>Raiders of the Lost Ark (1981)</td>\n",
       "      <td>218</td>\n",
       "      <td>202</td>\n",
       "      <td>420</td>\n",
       "      <td>48.095238</td>\n",
       "    </tr>\n",
       "    <tr>\n",
       "      <th>3</th>\n",
       "      <td>55</td>\n",
       "      <td>Pulp Fiction (1994)</td>\n",
       "      <td>206</td>\n",
       "      <td>188</td>\n",
       "      <td>394</td>\n",
       "      <td>47.715736</td>\n",
       "    </tr>\n",
       "    <tr>\n",
       "      <th>9</th>\n",
       "      <td>171</td>\n",
       "      <td>Empire Strikes Back, The (1980)</td>\n",
       "      <td>195</td>\n",
       "      <td>172</td>\n",
       "      <td>367</td>\n",
       "      <td>46.866485</td>\n",
       "    </tr>\n",
       "    <tr>\n",
       "      <th>4</th>\n",
       "      <td>97</td>\n",
       "      <td>Silence of the Lambs, The (1991)</td>\n",
       "      <td>209</td>\n",
       "      <td>181</td>\n",
       "      <td>390</td>\n",
       "      <td>46.410256</td>\n",
       "    </tr>\n",
       "    <tr>\n",
       "      <th>5</th>\n",
       "      <td>99</td>\n",
       "      <td>Fargo (1996)</td>\n",
       "      <td>281</td>\n",
       "      <td>227</td>\n",
       "      <td>508</td>\n",
       "      <td>44.685039</td>\n",
       "    </tr>\n",
       "    <tr>\n",
       "      <th>11</th>\n",
       "      <td>180</td>\n",
       "      <td>Return of the Jedi (1983)</td>\n",
       "      <td>336</td>\n",
       "      <td>171</td>\n",
       "      <td>507</td>\n",
       "      <td>33.727811</td>\n",
       "    </tr>\n",
       "    <tr>\n",
       "      <th>15</th>\n",
       "      <td>285</td>\n",
       "      <td>English Patient, The (1996)</td>\n",
       "      <td>350</td>\n",
       "      <td>131</td>\n",
       "      <td>481</td>\n",
       "      <td>27.234927</td>\n",
       "    </tr>\n",
       "  </tbody>\n",
       "</table>\n",
       "</div>"
      ],
      "text/plain": [
       "liked  movie_id                       movie_title  disliked  liked  total  \\\n",
       "2            49                  Star Wars (1977)       258    325    583   \n",
       "8           126             Godfather, The (1972)       199    214    413   \n",
       "19          312                    Titanic (1997)       171    179    350   \n",
       "10          173    Raiders of the Lost Ark (1981)       218    202    420   \n",
       "3            55               Pulp Fiction (1994)       206    188    394   \n",
       "9           171   Empire Strikes Back, The (1980)       195    172    367   \n",
       "4            97  Silence of the Lambs, The (1991)       209    181    390   \n",
       "5            99                      Fargo (1996)       281    227    508   \n",
       "11          180         Return of the Jedi (1983)       336    171    507   \n",
       "15          285       English Patient, The (1996)       350    131    481   \n",
       "\n",
       "liked   like_pct  \n",
       "2      55.746141  \n",
       "8      51.815981  \n",
       "19     51.142857  \n",
       "10     48.095238  \n",
       "3      47.715736  \n",
       "9      46.866485  \n",
       "4      46.410256  \n",
       "5      44.685039  \n",
       "11     33.727811  \n",
       "15     27.234927  "
      ]
     },
     "execution_count": 21,
     "metadata": {},
     "output_type": "execute_result"
    }
   ],
   "source": [
    "total_reward_counts.sort_values('like_pct', ascending=False, inplace=True)\n",
    "total_reward_counts.head(10)"
   ]
  },
  {
   "cell_type": "code",
   "execution_count": 26,
   "metadata": {},
   "outputs": [
    {
     "data": {
      "image/png": "[encoded data removed]",
      "text/plain": [
       "<Figure size 756x504 with 1 Axes>"
      ]
     },
     "metadata": {},
     "output_type": "display_data"
    }
   ],
   "source": [
    "\n",
    "like_probability_ax = sns.factorplot(size=7, aspect=1.5, x='like_pct', y='movie_title', kind='bar', data=total_reward_counts)\n",
    "\n",
    "plt.title('The 20 Movies with the Most Ratings')\n",
    "like_probability_ax.set_axis_labels('Probability of Being \"Liked\" (%)','')\n",
    "\n",
    "plt.show()"
   ]
  },
  {
   "cell_type": "markdown",
   "metadata": {},
   "source": [
    "# A/B Testing Method"
   ]
  },
  {
   "cell_type": "code",
   "execution_count": 30,
   "metadata": {},
   "outputs": [],
   "source": [
    "import numpy as np\n",
    "import pandas as pd\n",
    "\n",
    "from Replayers import ABTestReplayer, EpsilonGreedyReplayer, ThompsonSamplingReplayer"
   ]
  },
  {
   "cell_type": "code",
   "execution_count": 29,
   "metadata": {},
   "outputs": [
    {
     "name": "stdout",
     "output_type": "stream",
     "text": [
      "Collecting tqdm\n",
      "\u001b[?25l  Downloading https://files.pythonhosted.org/packages/6c/4b/c38b5144cf167c4f52288517436ccafefe9dc01b8d1c190e18a6b154cd4a/tqdm-4.31.1-py2.py3-none-any.whl (48kB)\n",
      "\u001b[K    100% |████████████████████████████████| 51kB 2.1MB/s ta 0:00:01\n",
      "\u001b[?25hInstalling collected packages: tqdm\n",
      "Successfully installed tqdm-4.31.1\n",
      "\u001b[33mYou are using pip version 10.0.1, however version 19.1.1 is available.\n",
      "You should consider upgrading via the 'pip install --upgrade pip' command.\u001b[0m\n"
     ]
    }
   ],
   "source": [
    "! pip install tqdm"
   ]
  },
  {
   "cell_type": "code",
   "execution_count": 36,
   "metadata": {},
   "outputs": [
    {
     "data": {
      "text/html": [
       "<div>\n",
       "<style scoped>\n",
       "    .dataframe tbody tr th:only-of-type {\n",
       "        vertical-align: middle;\n",
       "    }\n",
       "\n",
       "    .dataframe tbody tr th {\n",
       "        vertical-align: top;\n",
       "    }\n",
       "\n",
       "    .dataframe thead th {\n",
       "        text-align: right;\n",
       "    }\n",
       "</style>\n",
       "<table border=\"1\" class=\"dataframe\">\n",
       "  <thead>\n",
       "    <tr style=\"text-align: right;\">\n",
       "      <th></th>\n",
       "      <th>user_id</th>\n",
       "      <th>movie_id</th>\n",
       "      <th>rating</th>\n",
       "      <th>movie_title</th>\n",
       "    </tr>\n",
       "  </thead>\n",
       "  <tbody>\n",
       "    <tr>\n",
       "      <th>0</th>\n",
       "      <td>185</td>\n",
       "      <td>301</td>\n",
       "      <td>3</td>\n",
       "      <td>L.A. Confidential (1997)</td>\n",
       "    </tr>\n",
       "    <tr>\n",
       "      <th>1</th>\n",
       "      <td>61</td>\n",
       "      <td>256</td>\n",
       "      <td>2</td>\n",
       "      <td>Men in Black (1997)</td>\n",
       "    </tr>\n",
       "    <tr>\n",
       "      <th>2</th>\n",
       "      <td>199</td>\n",
       "      <td>221</td>\n",
       "      <td>5</td>\n",
       "      <td>Star Trek: First Contact (1996)</td>\n",
       "    </tr>\n",
       "    <tr>\n",
       "      <th>3</th>\n",
       "      <td>290</td>\n",
       "      <td>117</td>\n",
       "      <td>2</td>\n",
       "      <td>Twister (1996)</td>\n",
       "    </tr>\n",
       "    <tr>\n",
       "      <th>4</th>\n",
       "      <td>307</td>\n",
       "      <td>0</td>\n",
       "      <td>4</td>\n",
       "      <td>Toy Story (1995)</td>\n",
       "    </tr>\n",
       "  </tbody>\n",
       "</table>\n",
       "</div>"
      ],
      "text/plain": [
       "   user_id  movie_id  rating                      movie_title\n",
       "0      185       301       3         L.A. Confidential (1997)\n",
       "1       61       256       2              Men in Black (1997)\n",
       "2      199       221       5  Star Trek: First Contact (1996)\n",
       "3      290       117       2                   Twister (1996)\n",
       "4      307         0       4                 Toy Story (1995)"
      ]
     },
     "execution_count": 36,
     "metadata": {},
     "output_type": "execute_result"
    }
   ],
   "source": [
    "top_n_movies.head()"
   ]
  },
  {
   "cell_type": "code",
   "execution_count": 38,
   "metadata": {},
   "outputs": [
    {
     "data": {
      "text/html": [
       "<div>\n",
       "<style scoped>\n",
       "    .dataframe tbody tr th:only-of-type {\n",
       "        vertical-align: middle;\n",
       "    }\n",
       "\n",
       "    .dataframe tbody tr th {\n",
       "        vertical-align: top;\n",
       "    }\n",
       "\n",
       "    .dataframe thead th {\n",
       "        text-align: right;\n",
       "    }\n",
       "</style>\n",
       "<table border=\"1\" class=\"dataframe\">\n",
       "  <thead>\n",
       "    <tr style=\"text-align: right;\">\n",
       "      <th></th>\n",
       "      <th>user_id</th>\n",
       "      <th>movie_id</th>\n",
       "      <th>rating</th>\n",
       "      <th>movie_title</th>\n",
       "      <th>reward</th>\n",
       "    </tr>\n",
       "  </thead>\n",
       "  <tbody>\n",
       "    <tr>\n",
       "      <th>0</th>\n",
       "      <td>185</td>\n",
       "      <td>301</td>\n",
       "      <td>3</td>\n",
       "      <td>L.A. Confidential (1997)</td>\n",
       "      <td>0</td>\n",
       "    </tr>\n",
       "    <tr>\n",
       "      <th>1</th>\n",
       "      <td>61</td>\n",
       "      <td>256</td>\n",
       "      <td>2</td>\n",
       "      <td>Men in Black (1997)</td>\n",
       "      <td>0</td>\n",
       "    </tr>\n",
       "    <tr>\n",
       "      <th>2</th>\n",
       "      <td>199</td>\n",
       "      <td>221</td>\n",
       "      <td>5</td>\n",
       "      <td>Star Trek: First Contact (1996)</td>\n",
       "      <td>1</td>\n",
       "    </tr>\n",
       "    <tr>\n",
       "      <th>3</th>\n",
       "      <td>290</td>\n",
       "      <td>117</td>\n",
       "      <td>2</td>\n",
       "      <td>Twister (1996)</td>\n",
       "      <td>0</td>\n",
       "    </tr>\n",
       "    <tr>\n",
       "      <th>4</th>\n",
       "      <td>307</td>\n",
       "      <td>0</td>\n",
       "      <td>4</td>\n",
       "      <td>Toy Story (1995)</td>\n",
       "      <td>0</td>\n",
       "    </tr>\n",
       "  </tbody>\n",
       "</table>\n",
       "</div>"
      ],
      "text/plain": [
       "   user_id  movie_id  rating                      movie_title  reward\n",
       "0      185       301       3         L.A. Confidential (1997)       0\n",
       "1       61       256       2              Men in Black (1997)       0\n",
       "2      199       221       5  Star Trek: First Contact (1996)       1\n",
       "3      290       117       2                   Twister (1996)       0\n",
       "4      307         0       4                 Toy Story (1995)       0"
      ]
     },
     "execution_count": 38,
     "metadata": {},
     "output_type": "execute_result"
    }
   ],
   "source": [
    "reward_threshold = 4\n",
    "top_n_movies['reward'] = top_n_movies.eval('rating > @reward_threshold').astype(int)\n",
    "top_n_movies.head()"
   ]
  },
  {
   "cell_type": "code",
   "execution_count": 39,
   "metadata": {},
   "outputs": [],
   "source": [
    "n_visits = 20000\n",
    "n_iterations = 20\n",
    "\n",
    "reward_history = top_n_movies\n",
    "item_col_name = 'movie_id'\n",
    "visitor_col_name = 'user_id'\n",
    "reward_col_name = 'reward'"
   ]
  },
  {
   "cell_type": "code",
   "execution_count": 40,
   "metadata": {},
   "outputs": [
    {
     "name": "stderr",
     "output_type": "stream",
     "text": [
      "100%|██████████| 20/20 [56:17<00:00, 199.30s/it] \n"
     ]
    }
   ],
   "source": [
    "#A/B Test Simulations\n",
    "\n",
    "n_test_visits = 1000\n",
    "ab_1k_results = ABTestReplayer(n_visits, n_test_visits, reward_history,\n",
    "                               item_col_name, visitor_col_name, reward_col_name,\n",
    "                               n_iterations=n_iterations).replay()"
   ]
  },
  {
   "cell_type": "code",
   "execution_count": 41,
   "metadata": {},
   "outputs": [
    {
     "data": {
      "text/html": [
       "<div>\n",
       "<style scoped>\n",
       "    .dataframe tbody tr th:only-of-type {\n",
       "        vertical-align: middle;\n",
       "    }\n",
       "\n",
       "    .dataframe tbody tr th {\n",
       "        vertical-align: top;\n",
       "    }\n",
       "\n",
       "    .dataframe thead th {\n",
       "        text-align: right;\n",
       "    }\n",
       "</style>\n",
       "<table border=\"1\" class=\"dataframe\">\n",
       "  <thead>\n",
       "    <tr style=\"text-align: right;\">\n",
       "      <th></th>\n",
       "      <th>fraction_relevant</th>\n",
       "      <th>item_id</th>\n",
       "      <th>iteration</th>\n",
       "      <th>reward</th>\n",
       "      <th>total_reward</th>\n",
       "      <th>visit</th>\n",
       "      <th>visitor_id</th>\n",
       "    </tr>\n",
       "  </thead>\n",
       "  <tbody>\n",
       "    <tr>\n",
       "      <th>0</th>\n",
       "      <td>0.000000</td>\n",
       "      <td>21</td>\n",
       "      <td>0</td>\n",
       "      <td>0</td>\n",
       "      <td>0</td>\n",
       "      <td>0</td>\n",
       "      <td>268</td>\n",
       "    </tr>\n",
       "    <tr>\n",
       "      <th>1</th>\n",
       "      <td>0.000000</td>\n",
       "      <td>256</td>\n",
       "      <td>0</td>\n",
       "      <td>0</td>\n",
       "      <td>0</td>\n",
       "      <td>1</td>\n",
       "      <td>140</td>\n",
       "    </tr>\n",
       "    <tr>\n",
       "      <th>2</th>\n",
       "      <td>0.333333</td>\n",
       "      <td>175</td>\n",
       "      <td>0</td>\n",
       "      <td>1</td>\n",
       "      <td>1</td>\n",
       "      <td>2</td>\n",
       "      <td>113</td>\n",
       "    </tr>\n",
       "    <tr>\n",
       "      <th>3</th>\n",
       "      <td>0.500000</td>\n",
       "      <td>404</td>\n",
       "      <td>0</td>\n",
       "      <td>1</td>\n",
       "      <td>2</td>\n",
       "      <td>3</td>\n",
       "      <td>933</td>\n",
       "    </tr>\n",
       "    <tr>\n",
       "      <th>4</th>\n",
       "      <td>0.400000</td>\n",
       "      <td>120</td>\n",
       "      <td>0</td>\n",
       "      <td>0</td>\n",
       "      <td>2</td>\n",
       "      <td>4</td>\n",
       "      <td>930</td>\n",
       "    </tr>\n",
       "  </tbody>\n",
       "</table>\n",
       "</div>"
      ],
      "text/plain": [
       "   fraction_relevant  item_id  iteration  reward  total_reward  visit  \\\n",
       "0           0.000000       21          0       0             0      0   \n",
       "1           0.000000      256          0       0             0      1   \n",
       "2           0.333333      175          0       1             1      2   \n",
       "3           0.500000      404          0       1             2      3   \n",
       "4           0.400000      120          0       0             2      4   \n",
       "\n",
       "   visitor_id  \n",
       "0         268  \n",
       "1         140  \n",
       "2         113  \n",
       "3         933  \n",
       "4         930  "
      ]
     },
     "execution_count": 41,
     "metadata": {},
     "output_type": "execute_result"
    }
   ],
   "source": [
    "ab_1k_results_df = pd.DataFrame(ab_1k_results)\n",
    "ab_1k_results_df.head()"
   ]
  },
  {
   "cell_type": "code",
   "execution_count": 42,
   "metadata": {},
   "outputs": [],
   "source": [
    "ab_1k_results_df.to_csv('ab_test_1k.csv')"
   ]
  },
  {
   "cell_type": "code",
   "execution_count": null,
   "metadata": {},
   "outputs": [],
   "source": []
  }
 ],
 "metadata": {
  "kernelspec": {
   "display_name": "Python 3",
   "language": "python",
   "name": "python3"
  },
  "language_info": {
   "codemirror_mode": {
    "name": "ipython",
    "version": 3
   },
   "file_extension": ".py",
   "mimetype": "text/x-python",
   "name": "python",
   "nbconvert_exporter": "python",
   "pygments_lexer": "ipython3",
   "version": "3.6.5"
  }
 },
 "nbformat": 4,
 "nbformat_minor": 2
}
