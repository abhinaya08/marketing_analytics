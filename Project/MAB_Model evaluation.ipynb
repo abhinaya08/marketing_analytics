{
 "cells": [
  {
   "cell_type": "code",
   "execution_count": 1,
   "metadata": {},
   "outputs": [],
   "source": [
    "import numpy as np\n",
    "import pandas as pd\n",
    "\n",
    "from Replayers import ABTestReplayer, EpsilonGreedyReplayer, ThompsonSamplingReplayer"
   ]
  },
  {
   "cell_type": "markdown",
   "metadata": {},
   "source": [
    "# Load historical data"
   ]
  },
  {
   "cell_type": "code",
   "execution_count": 6,
   "metadata": {},
   "outputs": [
    {
     "data": {
      "text/html": [
       "<div>\n",
       "<style scoped>\n",
       "    .dataframe tbody tr th:only-of-type {\n",
       "        vertical-align: middle;\n",
       "    }\n",
       "\n",
       "    .dataframe tbody tr th {\n",
       "        vertical-align: top;\n",
       "    }\n",
       "\n",
       "    .dataframe thead th {\n",
       "        text-align: right;\n",
       "    }\n",
       "</style>\n",
       "<table border=\"1\" class=\"dataframe\">\n",
       "  <thead>\n",
       "    <tr style=\"text-align: right;\">\n",
       "      <th></th>\n",
       "      <th>user_id</th>\n",
       "      <th>movie_id</th>\n",
       "      <th>rating</th>\n",
       "      <th>movie_title</th>\n",
       "    </tr>\n",
       "  </thead>\n",
       "  <tbody>\n",
       "    <tr>\n",
       "      <th>0</th>\n",
       "      <td>185</td>\n",
       "      <td>301</td>\n",
       "      <td>3</td>\n",
       "      <td>L.A. Confidential (1997)</td>\n",
       "    </tr>\n",
       "    <tr>\n",
       "      <th>1</th>\n",
       "      <td>61</td>\n",
       "      <td>256</td>\n",
       "      <td>2</td>\n",
       "      <td>Men in Black (1997)</td>\n",
       "    </tr>\n",
       "    <tr>\n",
       "      <th>2</th>\n",
       "      <td>199</td>\n",
       "      <td>221</td>\n",
       "      <td>5</td>\n",
       "      <td>Star Trek: First Contact (1996)</td>\n",
       "    </tr>\n",
       "    <tr>\n",
       "      <th>3</th>\n",
       "      <td>290</td>\n",
       "      <td>117</td>\n",
       "      <td>2</td>\n",
       "      <td>Twister (1996)</td>\n",
       "    </tr>\n",
       "    <tr>\n",
       "      <th>4</th>\n",
       "      <td>307</td>\n",
       "      <td>0</td>\n",
       "      <td>4</td>\n",
       "      <td>Toy Story (1995)</td>\n",
       "    </tr>\n",
       "  </tbody>\n",
       "</table>\n",
       "</div>"
      ],
      "text/plain": [
       "   user_id  movie_id  rating                      movie_title\n",
       "0      185       301       3         L.A. Confidential (1997)\n",
       "1       61       256       2              Men in Black (1997)\n",
       "2      199       221       5  Star Trek: First Contact (1996)\n",
       "3      290       117       2                   Twister (1996)\n",
       "4      307         0       4                 Toy Story (1995)"
      ]
     },
     "execution_count": 6,
     "metadata": {},
     "output_type": "execute_result"
    }
   ],
   "source": [
    "rating_df = pd.read_csv('top-n-movies_user-ratings.csv').drop(columns='Unnamed: 0')\n",
    "rating_df.head()"
   ]
  },
  {
   "cell_type": "code",
   "execution_count": 10,
   "metadata": {},
   "outputs": [
    {
     "data": {
      "text/plain": [
       "50"
      ]
     },
     "execution_count": 10,
     "metadata": {},
     "output_type": "execute_result"
    }
   ],
   "source": [
    "rating_df.movie_id.nunique()"
   ]
  },
  {
   "cell_type": "markdown",
   "metadata": {},
   "source": [
    "## Translate ratings into a binary reward value"
   ]
  },
  {
   "cell_type": "code",
   "execution_count": 15,
   "metadata": {},
   "outputs": [
    {
     "data": {
      "text/html": [
       "<div>\n",
       "<style scoped>\n",
       "    .dataframe tbody tr th:only-of-type {\n",
       "        vertical-align: middle;\n",
       "    }\n",
       "\n",
       "    .dataframe tbody tr th {\n",
       "        vertical-align: top;\n",
       "    }\n",
       "\n",
       "    .dataframe thead th {\n",
       "        text-align: right;\n",
       "    }\n",
       "</style>\n",
       "<table border=\"1\" class=\"dataframe\">\n",
       "  <thead>\n",
       "    <tr style=\"text-align: right;\">\n",
       "      <th></th>\n",
       "      <th>user_id</th>\n",
       "      <th>movie_id</th>\n",
       "      <th>rating</th>\n",
       "      <th>movie_title</th>\n",
       "      <th>reward</th>\n",
       "    </tr>\n",
       "  </thead>\n",
       "  <tbody>\n",
       "    <tr>\n",
       "      <th>0</th>\n",
       "      <td>185</td>\n",
       "      <td>301</td>\n",
       "      <td>3</td>\n",
       "      <td>L.A. Confidential (1997)</td>\n",
       "      <td>0</td>\n",
       "    </tr>\n",
       "    <tr>\n",
       "      <th>1</th>\n",
       "      <td>61</td>\n",
       "      <td>256</td>\n",
       "      <td>2</td>\n",
       "      <td>Men in Black (1997)</td>\n",
       "      <td>0</td>\n",
       "    </tr>\n",
       "    <tr>\n",
       "      <th>2</th>\n",
       "      <td>199</td>\n",
       "      <td>221</td>\n",
       "      <td>5</td>\n",
       "      <td>Star Trek: First Contact (1996)</td>\n",
       "      <td>1</td>\n",
       "    </tr>\n",
       "    <tr>\n",
       "      <th>3</th>\n",
       "      <td>290</td>\n",
       "      <td>117</td>\n",
       "      <td>2</td>\n",
       "      <td>Twister (1996)</td>\n",
       "      <td>0</td>\n",
       "    </tr>\n",
       "    <tr>\n",
       "      <th>4</th>\n",
       "      <td>307</td>\n",
       "      <td>0</td>\n",
       "      <td>4</td>\n",
       "      <td>Toy Story (1995)</td>\n",
       "      <td>0</td>\n",
       "    </tr>\n",
       "  </tbody>\n",
       "</table>\n",
       "</div>"
      ],
      "text/plain": [
       "   user_id  movie_id  rating                      movie_title  reward\n",
       "0      185       301       3         L.A. Confidential (1997)       0\n",
       "1       61       256       2              Men in Black (1997)       0\n",
       "2      199       221       5  Star Trek: First Contact (1996)       1\n",
       "3      290       117       2                   Twister (1996)       0\n",
       "4      307         0       4                 Toy Story (1995)       0"
      ]
     },
     "execution_count": 15,
     "metadata": {},
     "output_type": "execute_result"
    }
   ],
   "source": [
    "reward_threshold = 4\n",
    "rating_df['reward'] = rating_df.eval('rating > @reward_threshold').astype(int)\n",
    "rating_df.head()"
   ]
  },
  {
   "cell_type": "markdown",
   "metadata": {},
   "source": [
    "# Set the parameters for the simulations"
   ]
  },
  {
   "cell_type": "code",
   "execution_count": 16,
   "metadata": {},
   "outputs": [],
   "source": [
    "n_visits = 20000\n",
    "n_iterations = 20\n",
    "\n",
    "reward_history = rating_df\n",
    "item_col_name = 'movie_id'\n",
    "visitor_col_name = 'user_id'\n",
    "reward_col_name = 'reward'"
   ]
  },
  {
   "cell_type": "markdown",
   "metadata": {},
   "source": [
    "# A/B Test Simulations"
   ]
  },
  {
   "cell_type": "markdown",
   "metadata": {},
   "source": [
    "## Test period = 1,000 visits"
   ]
  },
  {
   "cell_type": "markdown",
   "metadata": {},
   "source": [
    "### Run the test"
   ]
  },
  {
   "cell_type": "code",
   "execution_count": 17,
   "metadata": {},
   "outputs": [
    {
     "name": "stderr",
     "output_type": "stream",
     "text": [
      "100%|██████████████████████████████████████████████████████████████████████████████| 20/20 [3:25:42<00:00, 1742.44s/it]\n"
     ]
    }
   ],
   "source": [
    "n_test_visits = 1000\n",
    "ab_1k_results = ABTestReplayer(n_visits, n_test_visits, reward_history,\n",
    "                               item_col_name, visitor_col_name, reward_col_name,\n",
    "                               n_iterations=n_iterations).replay()"
   ]
  },
  {
   "cell_type": "code",
   "execution_count": 18,
   "metadata": {},
   "outputs": [
    {
     "data": {
      "text/html": [
       "<div>\n",
       "<style scoped>\n",
       "    .dataframe tbody tr th:only-of-type {\n",
       "        vertical-align: middle;\n",
       "    }\n",
       "\n",
       "    .dataframe tbody tr th {\n",
       "        vertical-align: top;\n",
       "    }\n",
       "\n",
       "    .dataframe thead th {\n",
       "        text-align: right;\n",
       "    }\n",
       "</style>\n",
       "<table border=\"1\" class=\"dataframe\">\n",
       "  <thead>\n",
       "    <tr style=\"text-align: right;\">\n",
       "      <th></th>\n",
       "      <th>fraction_relevant</th>\n",
       "      <th>item_id</th>\n",
       "      <th>iteration</th>\n",
       "      <th>reward</th>\n",
       "      <th>total_reward</th>\n",
       "      <th>visit</th>\n",
       "      <th>visitor_id</th>\n",
       "    </tr>\n",
       "  </thead>\n",
       "  <tbody>\n",
       "    <tr>\n",
       "      <th>0</th>\n",
       "      <td>0.000000</td>\n",
       "      <td>21</td>\n",
       "      <td>0</td>\n",
       "      <td>0</td>\n",
       "      <td>0</td>\n",
       "      <td>0</td>\n",
       "      <td>268</td>\n",
       "    </tr>\n",
       "    <tr>\n",
       "      <th>1</th>\n",
       "      <td>0.000000</td>\n",
       "      <td>256</td>\n",
       "      <td>0</td>\n",
       "      <td>0</td>\n",
       "      <td>0</td>\n",
       "      <td>1</td>\n",
       "      <td>140</td>\n",
       "    </tr>\n",
       "    <tr>\n",
       "      <th>2</th>\n",
       "      <td>0.333333</td>\n",
       "      <td>175</td>\n",
       "      <td>0</td>\n",
       "      <td>1</td>\n",
       "      <td>1</td>\n",
       "      <td>2</td>\n",
       "      <td>113</td>\n",
       "    </tr>\n",
       "    <tr>\n",
       "      <th>3</th>\n",
       "      <td>0.500000</td>\n",
       "      <td>404</td>\n",
       "      <td>0</td>\n",
       "      <td>1</td>\n",
       "      <td>2</td>\n",
       "      <td>3</td>\n",
       "      <td>933</td>\n",
       "    </tr>\n",
       "    <tr>\n",
       "      <th>4</th>\n",
       "      <td>0.400000</td>\n",
       "      <td>120</td>\n",
       "      <td>0</td>\n",
       "      <td>0</td>\n",
       "      <td>2</td>\n",
       "      <td>4</td>\n",
       "      <td>930</td>\n",
       "    </tr>\n",
       "  </tbody>\n",
       "</table>\n",
       "</div>"
      ],
      "text/plain": [
       "   fraction_relevant  item_id  iteration  reward  total_reward  visit  \\\n",
       "0           0.000000       21          0       0             0      0   \n",
       "1           0.000000      256          0       0             0      1   \n",
       "2           0.333333      175          0       1             1      2   \n",
       "3           0.500000      404          0       1             2      3   \n",
       "4           0.400000      120          0       0             2      4   \n",
       "\n",
       "   visitor_id  \n",
       "0         268  \n",
       "1         140  \n",
       "2         113  \n",
       "3         933  \n",
       "4         930  "
      ]
     },
     "execution_count": 18,
     "metadata": {},
     "output_type": "execute_result"
    }
   ],
   "source": [
    "ab_1k_results_df = pd.DataFrame(ab_1k_results)\n",
    "ab_1k_results_df.head()"
   ]
  },
  {
   "cell_type": "markdown",
   "metadata": {},
   "source": [
    "### Save the output"
   ]
  },
  {
   "cell_type": "code",
   "execution_count": 20,
   "metadata": {},
   "outputs": [],
   "source": [
    "ab_1k_results_df.to_csv('ab_test_1k.csv')"
   ]
  },
  {
   "cell_type": "markdown",
   "metadata": {},
   "source": [
    "## Test period = 5,000 visits"
   ]
  },
  {
   "cell_type": "markdown",
   "metadata": {},
   "source": [
    "### Run the test"
   ]
  },
  {
   "cell_type": "code",
   "execution_count": 23,
   "metadata": {},
   "outputs": [
    {
     "name": "stderr",
     "output_type": "stream",
     "text": [
      "\n",
      "\n",
      "  0%|                                                                                                                                               | 0/20 [00:00<?, ?it/s]\n",
      "\n",
      "  5%|██████▋                                                                                                                               | 1/20 [02:58<56:26, 178.24s/it]\n",
      "\n",
      " 10%|█████████████▍                                                                                                                        | 2/20 [05:52<53:06, 177.05s/it]\n",
      "\n",
      " 15%|████████████████████                                                                                                                  | 3/20 [07:32<43:34, 153.80s/it]\n",
      "\n",
      " 20%|██████████████████████████▊                                                                                                           | 4/20 [10:13<41:37, 156.11s/it]\n",
      "\n",
      " 25%|█████████████████████████████████▌                                                                                                    | 5/20 [12:54<39:22, 157.52s/it]\n",
      "\n",
      " 30%|████████████████████████████████████████▏                                                                                             | 6/20 [15:17<35:43, 153.08s/it]\n",
      "\n",
      " 35%|██████████████████████████████████████████████▉                                                                                       | 7/20 [17:48<33:02, 152.47s/it]\n",
      "\n",
      " 40%|█████████████████████████████████████████████████████▌                                                                                | 8/20 [20:28<30:59, 154.97s/it]\n",
      "\n",
      " 45%|████████████████████████████████████████████████████████████▎                                                                         | 9/20 [23:11<28:48, 157.11s/it]\n",
      "\n",
      " 50%|██████████████████████████████████████████████████████████████████▌                                                                  | 10/20 [25:51<26:22, 158.26s/it]\n",
      "\n",
      " 55%|█████████████████████████████████████████████████████████████████████████▏                                                           | 11/20 [27:30<21:03, 140.35s/it]\n",
      "\n",
      " 60%|███████████████████████████████████████████████████████████████████████████████▊                                                     | 12/20 [30:11<19:33, 146.66s/it]\n",
      "\n",
      " 65%|██████████████████████████████████████████████████████████████████████████████████████▍                                              | 13/20 [32:59<17:50, 152.97s/it]\n",
      "\n",
      " 70%|█████████████████████████████████████████████████████████████████████████████████████████████                                        | 14/20 [35:46<15:42, 157.09s/it]\n",
      "\n",
      " 75%|███████████████████████████████████████████████████████████████████████████████████████████████████▊                                 | 15/20 [38:52<13:49, 165.82s/it]\n",
      "\n",
      " 80%|██████████████████████████████████████████████████████████████████████████████████████████████████████████▍                          | 16/20 [40:39<09:53, 148.28s/it]\n",
      "\n",
      " 85%|█████████████████████████████████████████████████████████████████████████████████████████████████████████████████                    | 17/20 [43:19<07:34, 151.56s/it]\n",
      "\n",
      " 90%|███████████████████████████████████████████████████████████████████████████████████████████████████████████████████████▋             | 18/20 [45:59<05:08, 154.24s/it]\n",
      "\n",
      " 95%|██████████████████████████████████████████████████████████████████████████████████████████████████████████████████████████████▎      | 19/20 [48:41<02:36, 156.40s/it]\n",
      "\n",
      "100%|█████████████████████████████████████████████████████████████████████████████████████████████████████████████████████████████████████| 20/20 [51:23<00:00, 158.08s/it]"
     ]
    }
   ],
   "source": [
    "n_test_visits = 5000\n",
    "ab_5k_results = ABTestReplayer(n_visits, n_test_visits, reward_history,\n",
    "                               item_col_name, visitor_col_name, reward_col_name,\n",
    "                               n_iterations=n_iterations).replay()"
   ]
  },
  {
   "cell_type": "code",
   "execution_count": 24,
   "metadata": {},
   "outputs": [
    {
     "data": {
      "text/html": [
       "<div>\n",
       "<style scoped>\n",
       "    .dataframe tbody tr th:only-of-type {\n",
       "        vertical-align: middle;\n",
       "    }\n",
       "\n",
       "    .dataframe tbody tr th {\n",
       "        vertical-align: top;\n",
       "    }\n",
       "\n",
       "    .dataframe thead th {\n",
       "        text-align: right;\n",
       "    }\n",
       "</style>\n",
       "<table border=\"1\" class=\"dataframe\">\n",
       "  <thead>\n",
       "    <tr style=\"text-align: right;\">\n",
       "      <th></th>\n",
       "      <th>fraction_relevant</th>\n",
       "      <th>item_id</th>\n",
       "      <th>iteration</th>\n",
       "      <th>reward</th>\n",
       "      <th>total_reward</th>\n",
       "      <th>visit</th>\n",
       "      <th>visitor_id</th>\n",
       "    </tr>\n",
       "  </thead>\n",
       "  <tbody>\n",
       "    <tr>\n",
       "      <th>0</th>\n",
       "      <td>0.000000</td>\n",
       "      <td>21</td>\n",
       "      <td>0</td>\n",
       "      <td>0</td>\n",
       "      <td>0</td>\n",
       "      <td>0</td>\n",
       "      <td>268</td>\n",
       "    </tr>\n",
       "    <tr>\n",
       "      <th>1</th>\n",
       "      <td>0.000000</td>\n",
       "      <td>256</td>\n",
       "      <td>0</td>\n",
       "      <td>0</td>\n",
       "      <td>0</td>\n",
       "      <td>1</td>\n",
       "      <td>140</td>\n",
       "    </tr>\n",
       "    <tr>\n",
       "      <th>2</th>\n",
       "      <td>0.333333</td>\n",
       "      <td>175</td>\n",
       "      <td>0</td>\n",
       "      <td>1</td>\n",
       "      <td>1</td>\n",
       "      <td>2</td>\n",
       "      <td>113</td>\n",
       "    </tr>\n",
       "    <tr>\n",
       "      <th>3</th>\n",
       "      <td>0.500000</td>\n",
       "      <td>404</td>\n",
       "      <td>0</td>\n",
       "      <td>1</td>\n",
       "      <td>2</td>\n",
       "      <td>3</td>\n",
       "      <td>933</td>\n",
       "    </tr>\n",
       "    <tr>\n",
       "      <th>4</th>\n",
       "      <td>0.400000</td>\n",
       "      <td>120</td>\n",
       "      <td>0</td>\n",
       "      <td>0</td>\n",
       "      <td>2</td>\n",
       "      <td>4</td>\n",
       "      <td>930</td>\n",
       "    </tr>\n",
       "  </tbody>\n",
       "</table>\n",
       "</div>"
      ],
      "text/plain": [
       "   fraction_relevant  item_id  iteration  reward  total_reward  visit  \\\n",
       "0           0.000000       21          0       0             0      0   \n",
       "1           0.000000      256          0       0             0      1   \n",
       "2           0.333333      175          0       1             1      2   \n",
       "3           0.500000      404          0       1             2      3   \n",
       "4           0.400000      120          0       0             2      4   \n",
       "\n",
       "   visitor_id  \n",
       "0         268  \n",
       "1         140  \n",
       "2         113  \n",
       "3         933  \n",
       "4         930  "
      ]
     },
     "execution_count": 24,
     "metadata": {},
     "output_type": "execute_result"
    }
   ],
   "source": [
    "ab_5k_results_df = pd.DataFrame(ab_5k_results)\n",
    "ab_5k_results_df.head()"
   ]
  },
  {
   "cell_type": "markdown",
   "metadata": {},
   "source": [
    "### Save the output"
   ]
  },
  {
   "cell_type": "code",
   "execution_count": 25,
   "metadata": {},
   "outputs": [],
   "source": [
    "ab_5k_results_df.to_csv('ab_test_5k.csv')"
   ]
  },
  {
   "cell_type": "markdown",
   "metadata": {},
   "source": [
    "# $\\epsilon$-Greedy Simulations"
   ]
  },
  {
   "cell_type": "markdown",
   "metadata": {},
   "source": [
    "## $\\epsilon$ = 0.05"
   ]
  },
  {
   "cell_type": "markdown",
   "metadata": {},
   "source": [
    "### Run the test"
   ]
  },
  {
   "cell_type": "code",
   "execution_count": 26,
   "metadata": {},
   "outputs": [
    {
     "name": "stderr",
     "output_type": "stream",
     "text": [
      "\n",
      "\n",
      "  0%|                                                                                                                                               | 0/20 [00:00<?, ?it/s]\n",
      "\n",
      "  5%|██████▋                                                                                                                               | 1/20 [02:47<53:07, 167.78s/it]\n",
      "\n",
      " 10%|█████████████▍                                                                                                                        | 2/20 [04:18<43:21, 144.53s/it]\n",
      "\n",
      " 15%|████████████████████                                                                                                                  | 3/20 [07:03<42:41, 150.67s/it]\n",
      "\n",
      " 20%|██████████████████████████▊                                                                                                           | 4/20 [09:58<42:12, 158.25s/it]\n",
      "\n",
      " 25%|█████████████████████████████████▌                                                                                                    | 5/20 [12:33<39:14, 156.99s/it]\n",
      "\n",
      " 30%|████████████████████████████████████████▏                                                                                             | 6/20 [15:19<37:16, 159.78s/it]\n",
      "\n",
      " 35%|██████████████████████████████████████████████▉                                                                                       | 7/20 [18:03<34:55, 161.23s/it]\n",
      "\n",
      " 40%|█████████████████████████████████████████████████████▌                                                                                | 8/20 [20:50<32:34, 162.85s/it]\n",
      "\n",
      " 45%|████████████████████████████████████████████████████████████▎                                                                         | 9/20 [22:31<26:26, 144.19s/it]\n",
      "\n",
      " 50%|██████████████████████████████████████████████████████████████████▌                                                                  | 10/20 [25:25<25:33, 153.35s/it]\n",
      "\n",
      " 55%|█████████████████████████████████████████████████████████████████████████▏                                                           | 11/20 [27:17<21:08, 140.92s/it]\n",
      "\n",
      " 60%|███████████████████████████████████████████████████████████████████████████████▊                                                     | 12/20 [29:59<19:36, 147.01s/it]\n",
      "\n",
      " 65%|██████████████████████████████████████████████████████████████████████████████████████▍                                              | 13/20 [32:47<17:54, 153.54s/it]\n",
      "\n",
      " 70%|█████████████████████████████████████████████████████████████████████████████████████████████                                        | 14/20 [35:43<16:01, 160.18s/it]\n",
      "\n",
      " 75%|███████████████████████████████████████████████████████████████████████████████████████████████████▊                                 | 15/20 [38:30<13:31, 162.34s/it]\n",
      "\n",
      " 80%|██████████████████████████████████████████████████████████████████████████████████████████████████████████▍                          | 16/20 [41:15<10:51, 162.95s/it]\n",
      "\n",
      " 85%|█████████████████████████████████████████████████████████████████████████████████████████████████████████████████                    | 17/20 [44:18<08:26, 168.89s/it]\n",
      "\n",
      " 90%|███████████████████████████████████████████████████████████████████████████████████████████████████████████████████████▋             | 18/20 [47:08<05:38, 169.22s/it]\n",
      "\n",
      " 95%|██████████████████████████████████████████████████████████████████████████████████████████████████████████████████████████████▎      | 19/20 [49:53<02:48, 168.24s/it]\n",
      "\n",
      "100%|█████████████████████████████████████████████████████████████████████████████████████████████████████████████████████████████████████| 20/20 [52:09<00:00, 158.29s/it]"
     ]
    }
   ],
   "source": [
    "epsilon = 0.05\n",
    "epsilon_05_results = EpsilonGreedyReplayer(epsilon, n_visits, reward_history,\n",
    "                                           item_col_name, visitor_col_name, reward_col_name,\n",
    "                                           n_iterations=n_iterations).replay()"
   ]
  },
  {
   "cell_type": "code",
   "execution_count": 27,
   "metadata": {},
   "outputs": [
    {
     "data": {
      "text/html": [
       "<div>\n",
       "<style scoped>\n",
       "    .dataframe tbody tr th:only-of-type {\n",
       "        vertical-align: middle;\n",
       "    }\n",
       "\n",
       "    .dataframe tbody tr th {\n",
       "        vertical-align: top;\n",
       "    }\n",
       "\n",
       "    .dataframe thead th {\n",
       "        text-align: right;\n",
       "    }\n",
       "</style>\n",
       "<table border=\"1\" class=\"dataframe\">\n",
       "  <thead>\n",
       "    <tr style=\"text-align: right;\">\n",
       "      <th></th>\n",
       "      <th>fraction_relevant</th>\n",
       "      <th>item_id</th>\n",
       "      <th>iteration</th>\n",
       "      <th>reward</th>\n",
       "      <th>total_reward</th>\n",
       "      <th>visit</th>\n",
       "      <th>visitor_id</th>\n",
       "    </tr>\n",
       "  </thead>\n",
       "  <tbody>\n",
       "    <tr>\n",
       "      <th>0</th>\n",
       "      <td>0.00</td>\n",
       "      <td>301</td>\n",
       "      <td>0</td>\n",
       "      <td>0</td>\n",
       "      <td>0</td>\n",
       "      <td>0</td>\n",
       "      <td>268</td>\n",
       "    </tr>\n",
       "    <tr>\n",
       "      <th>1</th>\n",
       "      <td>0.00</td>\n",
       "      <td>301</td>\n",
       "      <td>0</td>\n",
       "      <td>0</td>\n",
       "      <td>0</td>\n",
       "      <td>1</td>\n",
       "      <td>656</td>\n",
       "    </tr>\n",
       "    <tr>\n",
       "      <th>2</th>\n",
       "      <td>0.00</td>\n",
       "      <td>301</td>\n",
       "      <td>0</td>\n",
       "      <td>0</td>\n",
       "      <td>0</td>\n",
       "      <td>2</td>\n",
       "      <td>933</td>\n",
       "    </tr>\n",
       "    <tr>\n",
       "      <th>3</th>\n",
       "      <td>0.25</td>\n",
       "      <td>301</td>\n",
       "      <td>0</td>\n",
       "      <td>1</td>\n",
       "      <td>1</td>\n",
       "      <td>3</td>\n",
       "      <td>333</td>\n",
       "    </tr>\n",
       "    <tr>\n",
       "      <th>4</th>\n",
       "      <td>0.40</td>\n",
       "      <td>301</td>\n",
       "      <td>0</td>\n",
       "      <td>1</td>\n",
       "      <td>2</td>\n",
       "      <td>4</td>\n",
       "      <td>835</td>\n",
       "    </tr>\n",
       "  </tbody>\n",
       "</table>\n",
       "</div>"
      ],
      "text/plain": [
       "   fraction_relevant  item_id  iteration  reward  total_reward  visit  \\\n",
       "0               0.00      301          0       0             0      0   \n",
       "1               0.00      301          0       0             0      1   \n",
       "2               0.00      301          0       0             0      2   \n",
       "3               0.25      301          0       1             1      3   \n",
       "4               0.40      301          0       1             2      4   \n",
       "\n",
       "   visitor_id  \n",
       "0         268  \n",
       "1         656  \n",
       "2         933  \n",
       "3         333  \n",
       "4         835  "
      ]
     },
     "execution_count": 27,
     "metadata": {},
     "output_type": "execute_result"
    }
   ],
   "source": [
    "epsilon_05_results_df = pd.DataFrame(epsilon_05_results)\n",
    "epsilon_05_results_df.head()"
   ]
  },
  {
   "cell_type": "markdown",
   "metadata": {},
   "source": [
    "### Save the output"
   ]
  },
  {
   "cell_type": "code",
   "execution_count": 28,
   "metadata": {},
   "outputs": [],
   "source": [
    "epsilon_05_results_df.to_csv('epsilon_greedy_05.csv')"
   ]
  },
  {
   "cell_type": "markdown",
   "metadata": {},
   "source": [
    "## $\\epsilon$ = 0.10"
   ]
  },
  {
   "cell_type": "markdown",
   "metadata": {},
   "source": [
    "### Run the test"
   ]
  },
  {
   "cell_type": "code",
   "execution_count": 29,
   "metadata": {},
   "outputs": [
    {
     "name": "stderr",
     "output_type": "stream",
     "text": [
      "\n",
      "\n",
      "  0%|                                                                                                                                               | 0/20 [00:00<?, ?it/s]\n",
      "\n",
      "  5%|██████▋                                                                                                                               | 1/20 [02:57<56:15, 177.68s/it]\n",
      "\n",
      " 10%|█████████████▍                                                                                                                        | 2/20 [05:21<50:16, 167.59s/it]\n",
      "\n",
      " 15%|████████████████████                                                                                                                  | 3/20 [08:05<47:08, 166.38s/it]\n",
      "\n",
      " 20%|██████████████████████████▊                                                                                                           | 4/20 [10:59<45:01, 168.86s/it]\n",
      "\n",
      " 25%|█████████████████████████████████▌                                                                                                    | 5/20 [13:53<42:32, 170.20s/it]\n",
      "\n",
      " 30%|████████████████████████████████████████▏                                                                                             | 6/20 [16:25<38:29, 164.94s/it]\n",
      "\n",
      " 35%|██████████████████████████████████████████████▉                                                                                       | 7/20 [19:08<35:36, 164.36s/it]\n",
      "\n",
      " 40%|█████████████████████████████████████████████████████▌                                                                                | 8/20 [21:03<29:51, 149.31s/it]\n",
      "\n",
      " 45%|████████████████████████████████████████████████████████████▎                                                                         | 9/20 [23:57<28:44, 156.77s/it]\n",
      "\n",
      " 50%|██████████████████████████████████████████████████████████████████▌                                                                  | 10/20 [26:27<25:48, 154.83s/it]\n",
      "\n",
      " 55%|█████████████████████████████████████████████████████████████████████████▏                                                           | 11/20 [29:19<24:00, 160.01s/it]\n",
      "\n",
      " 60%|███████████████████████████████████████████████████████████████████████████████▊                                                     | 12/20 [32:19<22:08, 166.02s/it]\n",
      "\n",
      " 65%|██████████████████████████████████████████████████████████████████████████████████████▍                                              | 13/20 [35:11<19:34, 167.73s/it]\n",
      "\n",
      " 70%|█████████████████████████████████████████████████████████████████████████████████████████████                                        | 14/20 [37:57<16:44, 167.33s/it]\n",
      "\n",
      " 75%|███████████████████████████████████████████████████████████████████████████████████████████████████▊                                 | 15/20 [40:39<13:47, 165.48s/it]\n",
      "\n",
      " 80%|██████████████████████████████████████████████████████████████████████████████████████████████████████████▍                          | 16/20 [43:34<11:13, 168.46s/it]\n",
      "\n",
      " 85%|█████████████████████████████████████████████████████████████████████████████████████████████████████████████████                    | 17/20 [46:24<08:26, 168.80s/it]\n",
      "\n",
      " 90%|███████████████████████████████████████████████████████████████████████████████████████████████████████████████████████▋             | 18/20 [49:06<05:33, 166.97s/it]\n",
      "\n",
      " 95%|██████████████████████████████████████████████████████████████████████████████████████████████████████████████████████████████▎      | 19/20 [51:40<02:43, 163.09s/it]\n",
      "\n",
      "100%|█████████████████████████████████████████████████████████████████████████████████████████████████████████████████████████████████████| 20/20 [54:00<00:00, 155.95s/it]"
     ]
    }
   ],
   "source": [
    "epsilon = 0.10\n",
    "epsilon_10_results = EpsilonGreedyReplayer(epsilon, n_visits, reward_history,\n",
    "                                           item_col_name, visitor_col_name, reward_col_name,\n",
    "                                           n_iterations=n_iterations).replay()"
   ]
  },
  {
   "cell_type": "code",
   "execution_count": 30,
   "metadata": {},
   "outputs": [
    {
     "data": {
      "text/html": [
       "<div>\n",
       "<style scoped>\n",
       "    .dataframe tbody tr th:only-of-type {\n",
       "        vertical-align: middle;\n",
       "    }\n",
       "\n",
       "    .dataframe tbody tr th {\n",
       "        vertical-align: top;\n",
       "    }\n",
       "\n",
       "    .dataframe thead th {\n",
       "        text-align: right;\n",
       "    }\n",
       "</style>\n",
       "<table border=\"1\" class=\"dataframe\">\n",
       "  <thead>\n",
       "    <tr style=\"text-align: right;\">\n",
       "      <th></th>\n",
       "      <th>fraction_relevant</th>\n",
       "      <th>item_id</th>\n",
       "      <th>iteration</th>\n",
       "      <th>reward</th>\n",
       "      <th>total_reward</th>\n",
       "      <th>visit</th>\n",
       "      <th>visitor_id</th>\n",
       "    </tr>\n",
       "  </thead>\n",
       "  <tbody>\n",
       "    <tr>\n",
       "      <th>0</th>\n",
       "      <td>0.00</td>\n",
       "      <td>301</td>\n",
       "      <td>0</td>\n",
       "      <td>0</td>\n",
       "      <td>0</td>\n",
       "      <td>0</td>\n",
       "      <td>268</td>\n",
       "    </tr>\n",
       "    <tr>\n",
       "      <th>1</th>\n",
       "      <td>0.00</td>\n",
       "      <td>301</td>\n",
       "      <td>0</td>\n",
       "      <td>0</td>\n",
       "      <td>0</td>\n",
       "      <td>1</td>\n",
       "      <td>656</td>\n",
       "    </tr>\n",
       "    <tr>\n",
       "      <th>2</th>\n",
       "      <td>0.00</td>\n",
       "      <td>301</td>\n",
       "      <td>0</td>\n",
       "      <td>0</td>\n",
       "      <td>0</td>\n",
       "      <td>2</td>\n",
       "      <td>933</td>\n",
       "    </tr>\n",
       "    <tr>\n",
       "      <th>3</th>\n",
       "      <td>0.25</td>\n",
       "      <td>301</td>\n",
       "      <td>0</td>\n",
       "      <td>1</td>\n",
       "      <td>1</td>\n",
       "      <td>3</td>\n",
       "      <td>333</td>\n",
       "    </tr>\n",
       "    <tr>\n",
       "      <th>4</th>\n",
       "      <td>0.40</td>\n",
       "      <td>301</td>\n",
       "      <td>0</td>\n",
       "      <td>1</td>\n",
       "      <td>2</td>\n",
       "      <td>4</td>\n",
       "      <td>835</td>\n",
       "    </tr>\n",
       "  </tbody>\n",
       "</table>\n",
       "</div>"
      ],
      "text/plain": [
       "   fraction_relevant  item_id  iteration  reward  total_reward  visit  \\\n",
       "0               0.00      301          0       0             0      0   \n",
       "1               0.00      301          0       0             0      1   \n",
       "2               0.00      301          0       0             0      2   \n",
       "3               0.25      301          0       1             1      3   \n",
       "4               0.40      301          0       1             2      4   \n",
       "\n",
       "   visitor_id  \n",
       "0         268  \n",
       "1         656  \n",
       "2         933  \n",
       "3         333  \n",
       "4         835  "
      ]
     },
     "execution_count": 30,
     "metadata": {},
     "output_type": "execute_result"
    }
   ],
   "source": [
    "epsilon_10_results_df = pd.DataFrame(epsilon_10_results)\n",
    "epsilon_10_results_df.head()"
   ]
  },
  {
   "cell_type": "markdown",
   "metadata": {},
   "source": [
    "### Save the output"
   ]
  },
  {
   "cell_type": "code",
   "execution_count": 31,
   "metadata": {},
   "outputs": [],
   "source": [
    "epsilon_10_results_df.to_csv('epsilon_greedy_10.csv')"
   ]
  },
  {
   "cell_type": "markdown",
   "metadata": {},
   "source": [
    "# Thompson Sampling Simulations"
   ]
  },
  {
   "cell_type": "markdown",
   "metadata": {},
   "source": [
    "### Run the test"
   ]
  },
  {
   "cell_type": "code",
   "execution_count": 32,
   "metadata": {},
   "outputs": [],
   "source": [
    "# thompson_results = ThompsonSamplingReplayer(n_visits, reward_history,\n",
    "#                                             item_col_name, visitor_col_name, reward_col_name,\n",
    "#                                             n_iterations=n_iterations).replay()"
   ]
  },
  {
   "cell_type": "code",
   "execution_count": 33,
   "metadata": {},
   "outputs": [],
   "source": [
    "#thompson_results_df = pd.DataFrame(thompson_results)\n",
    "# thompson_results_df.head()"
   ]
  },
  {
   "cell_type": "markdown",
   "metadata": {},
   "source": [
    "### Save the output"
   ]
  },
  {
   "cell_type": "code",
   "execution_count": 34,
   "metadata": {},
   "outputs": [],
   "source": [
    "#thompson_results_df.to_csv('thompson_sampling.csv')"
   ]
  },
  {
   "cell_type": "code",
   "execution_count": 35,
   "metadata": {},
   "outputs": [],
   "source": [
    "thompson_results_df = pd.read_csv('thompson_sampling.csv').drop(columns='Unnamed: 0')"
   ]
  },
  {
   "cell_type": "markdown",
   "metadata": {},
   "source": [
    "# Compare the results"
   ]
  },
  {
   "cell_type": "markdown",
   "metadata": {},
   "source": [
    "## Average the results across all runs"
   ]
  },
  {
   "cell_type": "code",
   "execution_count": 36,
   "metadata": {},
   "outputs": [],
   "source": [
    "ab_1k_avg_results_df = ab_1k_results_df.groupby('visit', as_index=False).mean()\n",
    "\n",
    "ab_5k_avg_results_df = ab_5k_results_df.groupby('visit', as_index=False).mean()\n",
    "\n",
    "epsilon_05_avg_results_df = epsilon_05_results_df.groupby('visit', as_index=False).mean()\n",
    "\n",
    "epsilon_10_avg_results_df = epsilon_10_results_df.groupby('visit', as_index=False).mean()\n",
    "\n",
    "thompson_avg_results_df = thompson_results_df.groupby('visit', as_index=False).mean()"
   ]
  },
  {
   "cell_type": "markdown",
   "metadata": {},
   "source": [
    "## Plot the output"
   ]
  },
  {
   "cell_type": "code",
   "execution_count": 37,
   "metadata": {},
   "outputs": [],
   "source": [
    "%matplotlib inline\n",
    "from matplotlib import pyplot as plt\n",
    "import seaborn as sns"
   ]
  },
  {
   "cell_type": "code",
   "execution_count": 38,
   "metadata": {},
   "outputs": [],
   "source": [
    "sns.set(font_scale=2.5)"
   ]
  },
  {
   "cell_type": "code",
   "execution_count": 39,
   "metadata": {},
   "outputs": [
    {
     "data": {
      "image/png": "[encoded data removed]",
      "text/plain": [
       "<Figure size 720x72 with 1 Axes>"
      ]
     },
     "metadata": {},
     "output_type": "display_data"
    }
   ],
   "source": [
    "# using a color-blind friendly palette with 10 colors\n",
    "color_blind_palette_10 = ['#cfcfcf', '#ffbc79', '#a2c8ec', '#898989', '#c85200',\n",
    "                          '#5f9ed1', '#595959', '#ababab', '#ff800e', '#006ba4']\n",
    "\n",
    "sns.palplot(color_blind_palette_10)"
   ]
  },
  {
   "cell_type": "code",
   "execution_count": 40,
   "metadata": {},
   "outputs": [
    {
     "data": {
      "image/png": "[encoded data removed]",
      "text/plain": [
       "<Figure size 864x720 with 1 Axes>"
      ]
     },
     "metadata": {},
     "output_type": "display_data"
    }
   ],
   "source": [
    "fig, ax = plt.subplots(figsize=(12,10))\n",
    "\n",
    "for (avg_results_df, style) in [(ab_1k_avg_results_df, 'r-'),\n",
    "                                (ab_5k_avg_results_df, 'r--'),\n",
    "                                (epsilon_05_avg_results_df, 'b-'),\n",
    "                                (epsilon_10_avg_results_df, 'b--'),\n",
    "                                (thompson_avg_results_df, 'tab:brown')]:\n",
    "    \n",
    "    ax.plot(avg_results_df.visit, avg_results_df.fraction_relevant, style, linewidth=3.5)\n",
    "\n",
    "# add a line for the optimal value -- 0.5575 for Star Wars (from exploration noteboook)\n",
    "ax.axhline(y=0.5575, color='k', linestyle=':', linewidth=2.5)\n",
    "\n",
    "ax.set_title('Percentage of Liked Recommendations')\n",
    "ax.set_xlabel('Recommendation #')\n",
    "ax.set_ylabel('% of Recs Liked')\n",
    "\n",
    "ax.set_xticks(range(0,22000,5000))\n",
    "ax.set_ylim(0.2, 0.6)\n",
    "ax.set_yticks(np.arange(0.2, 0.7, 0.1))\n",
    "\n",
    "# rescale the y-axis tick labels to show them as a percentage\n",
    "ax.set_yticklabels((ax.get_yticks()*100).astype(int))\n",
    "\n",
    "ax.legend(['A/B Test (1k Recs)',\n",
    "           'A/B Test (5k Recs)',\n",
    "           '$\\epsilon$ = 0.05',\n",
    "           '$\\epsilon$ = 0.10',\n",
    "           'Thompson Sampling',\n",
    "           'Optimal '\n",
    "          ],\n",
    "          loc='lower right'\n",
    "         )\n",
    "\n",
    "plt.tight_layout()\n",
    "plt.show()"
   ]
  }
 ],
 "metadata": {
  "kernelspec": {
   "display_name": "Python 3",
   "language": "python",
   "name": "python3"
  },
  "language_info": {
   "codemirror_mode": {
    "name": "ipython",
    "version": 3
   },
   "file_extension": ".py",
   "mimetype": "text/x-python",
   "name": "python",
   "nbconvert_exporter": "python",
   "pygments_lexer": "ipython3",
   "version": "3.6.8"
  }
 },
 "nbformat": 4,
 "nbformat_minor": 2
}
