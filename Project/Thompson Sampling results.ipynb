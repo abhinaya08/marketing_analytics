{
 "cells": [
  {
   "cell_type": "code",
   "execution_count": 1,
   "metadata": {},
   "outputs": [],
   "source": [
    "import pandas as pd\n",
    "import numpy as np"
   ]
  },
  {
   "cell_type": "code",
   "execution_count": 2,
   "metadata": {},
   "outputs": [],
   "source": [
    "%matplotlib inline\n",
    "from matplotlib import pyplot as plt\n",
    "import seaborn as sns"
   ]
  },
  {
   "cell_type": "code",
   "execution_count": 4,
   "metadata": {},
   "outputs": [],
   "source": [
    "sns.set(font_scale=2.5)"
   ]
  },
  {
   "cell_type": "code",
   "execution_count": 62,
   "metadata": {},
   "outputs": [
    {
     "data": {
      "image/png": "[encoded data removed]",
      "text/plain": [
       "<Figure size 720x72 with 1 Axes>"
      ]
     },
     "metadata": {},
     "output_type": "display_data"
    }
   ],
   "source": [
    "# using a color-blind friendly palette with 10 colors\n",
    "color_blind_palette_10 = ['#cfcfcf', '#ffbc79', '#a2c8ec', '#898989', '#c85200',\n",
    "                          '#5f9ed1', '#595959', '#ababab', '#ff800e', '#006ba4']\n",
    "#current_palette = sns.color_palette()\n",
    "#sns.palplot(current_palette)\n",
    "\n",
    "sns.palplot(color_blind_palette_10)"
   ]
  },
  {
   "cell_type": "markdown",
   "metadata": {},
   "source": [
    "# Load background data"
   ]
  },
  {
   "cell_type": "markdown",
   "metadata": {},
   "source": [
    "## Movie info"
   ]
  },
  {
   "cell_type": "code",
   "execution_count": 31,
   "metadata": {},
   "outputs": [],
   "source": [
    "top_n_movie_ratings = pd.read_csv('top-n-movies_user-ratings.csv').drop(columns='Unnamed: 0')"
   ]
  },
  {
   "cell_type": "code",
   "execution_count": 32,
   "metadata": {},
   "outputs": [
    {
     "data": {
      "text/html": [
       "<div>\n",
       "<style scoped>\n",
       "    .dataframe tbody tr th:only-of-type {\n",
       "        vertical-align: middle;\n",
       "    }\n",
       "\n",
       "    .dataframe tbody tr th {\n",
       "        vertical-align: top;\n",
       "    }\n",
       "\n",
       "    .dataframe thead th {\n",
       "        text-align: right;\n",
       "    }\n",
       "</style>\n",
       "<table border=\"1\" class=\"dataframe\">\n",
       "  <thead>\n",
       "    <tr style=\"text-align: right;\">\n",
       "      <th></th>\n",
       "      <th>user_id</th>\n",
       "      <th>movie_id</th>\n",
       "      <th>rating</th>\n",
       "      <th>movie_title</th>\n",
       "    </tr>\n",
       "  </thead>\n",
       "  <tbody>\n",
       "    <tr>\n",
       "      <th>0</th>\n",
       "      <td>185</td>\n",
       "      <td>301</td>\n",
       "      <td>3</td>\n",
       "      <td>L.A. Confidential (1997)</td>\n",
       "    </tr>\n",
       "    <tr>\n",
       "      <th>1</th>\n",
       "      <td>61</td>\n",
       "      <td>256</td>\n",
       "      <td>2</td>\n",
       "      <td>Men in Black (1997)</td>\n",
       "    </tr>\n",
       "    <tr>\n",
       "      <th>2</th>\n",
       "      <td>199</td>\n",
       "      <td>221</td>\n",
       "      <td>5</td>\n",
       "      <td>Star Trek: First Contact (1996)</td>\n",
       "    </tr>\n",
       "    <tr>\n",
       "      <th>3</th>\n",
       "      <td>290</td>\n",
       "      <td>117</td>\n",
       "      <td>2</td>\n",
       "      <td>Twister (1996)</td>\n",
       "    </tr>\n",
       "    <tr>\n",
       "      <th>4</th>\n",
       "      <td>307</td>\n",
       "      <td>0</td>\n",
       "      <td>4</td>\n",
       "      <td>Toy Story (1995)</td>\n",
       "    </tr>\n",
       "  </tbody>\n",
       "</table>\n",
       "</div>"
      ],
      "text/plain": [
       "   user_id  movie_id  rating                      movie_title\n",
       "0      185       301       3         L.A. Confidential (1997)\n",
       "1       61       256       2              Men in Black (1997)\n",
       "2      199       221       5  Star Trek: First Contact (1996)\n",
       "3      290       117       2                   Twister (1996)\n",
       "4      307         0       4                 Toy Story (1995)"
      ]
     },
     "execution_count": 32,
     "metadata": {},
     "output_type": "execute_result"
    }
   ],
   "source": [
    "top_n_movie_ratings.head()"
   ]
  },
  {
   "cell_type": "code",
   "execution_count": 57,
   "metadata": {},
   "outputs": [],
   "source": [
    "top_10_movies = top_n_movie_ratings.groupby(['movie_id'])['rating'].mean().sort_values(ascending=False).keys()[:10]"
   ]
  },
  {
   "cell_type": "code",
   "execution_count": 58,
   "metadata": {},
   "outputs": [],
   "source": [
    "top_n_movie_ratings =  top_n_movie_ratings[top_n_movie_ratings['movie_id'].isin(top_10_movies)]"
   ]
  },
  {
   "cell_type": "code",
   "execution_count": 59,
   "metadata": {},
   "outputs": [
    {
     "data": {
      "text/plain": [
       "(3725, 4)"
      ]
     },
     "execution_count": 59,
     "metadata": {},
     "output_type": "execute_result"
    }
   ],
   "source": [
    "top_n_movie_ratings.shape"
   ]
  },
  {
   "cell_type": "code",
   "execution_count": 60,
   "metadata": {},
   "outputs": [
    {
     "data": {
      "text/plain": [
       "{49: 'Star Wars (1977)',\n",
       " 63: 'Shawshank Redemption, The (1994)',\n",
       " 97: 'Silence of the Lambs, The (1991)',\n",
       " 126: 'Godfather, The (1972)',\n",
       " 171: 'Empire Strikes Back, The (1980)',\n",
       " 172: 'Princess Bride, The (1987)',\n",
       " 173: 'Raiders of the Lost Ark (1981)',\n",
       " 301: 'L.A. Confidential (1997)',\n",
       " 312: 'Titanic (1997)',\n",
       " 317: \"Schindler's List (1993)\"}"
      ]
     },
     "execution_count": 60,
     "metadata": {},
     "output_type": "execute_result"
    }
   ],
   "source": [
    "# create a dictionary between movie_id and movie_title (since the results output doesn't have titles)\n",
    "movie_titles = top_n_movie_ratings.groupby(['movie_id','movie_title']).size().to_frame() \\\n",
    "                                    .reset_index('movie_title').movie_title \\\n",
    "                                    .to_dict()\n",
    "movie_titles"
   ]
  },
  {
   "cell_type": "markdown",
   "metadata": {},
   "source": [
    "## Thompson Sampling Output"
   ]
  },
  {
   "cell_type": "code",
   "execution_count": 38,
   "metadata": {},
   "outputs": [],
   "source": [
    "thompson = pd.read_csv('thompson_sampling.csv').drop(columns='Unnamed: 0')"
   ]
  },
  {
   "cell_type": "code",
   "execution_count": 39,
   "metadata": {},
   "outputs": [
    {
     "data": {
      "text/html": [
       "<div>\n",
       "<style scoped>\n",
       "    .dataframe tbody tr th:only-of-type {\n",
       "        vertical-align: middle;\n",
       "    }\n",
       "\n",
       "    .dataframe tbody tr th {\n",
       "        vertical-align: top;\n",
       "    }\n",
       "\n",
       "    .dataframe thead th {\n",
       "        text-align: right;\n",
       "    }\n",
       "</style>\n",
       "<table border=\"1\" class=\"dataframe\">\n",
       "  <thead>\n",
       "    <tr style=\"text-align: right;\">\n",
       "      <th></th>\n",
       "      <th>fraction_relevant</th>\n",
       "      <th>item_id</th>\n",
       "      <th>iteration</th>\n",
       "      <th>reward</th>\n",
       "      <th>total_reward</th>\n",
       "      <th>visit</th>\n",
       "      <th>visitor_id</th>\n",
       "    </tr>\n",
       "  </thead>\n",
       "  <tbody>\n",
       "    <tr>\n",
       "      <th>0</th>\n",
       "      <td>1.000000</td>\n",
       "      <td>194</td>\n",
       "      <td>8</td>\n",
       "      <td>1</td>\n",
       "      <td>3</td>\n",
       "      <td>2</td>\n",
       "      <td>0</td>\n",
       "    </tr>\n",
       "    <tr>\n",
       "      <th>1</th>\n",
       "      <td>0.647059</td>\n",
       "      <td>8</td>\n",
       "      <td>12</td>\n",
       "      <td>1</td>\n",
       "      <td>22</td>\n",
       "      <td>33</td>\n",
       "      <td>0</td>\n",
       "    </tr>\n",
       "    <tr>\n",
       "      <th>2</th>\n",
       "      <td>0.716049</td>\n",
       "      <td>97</td>\n",
       "      <td>4</td>\n",
       "      <td>1</td>\n",
       "      <td>58</td>\n",
       "      <td>80</td>\n",
       "      <td>0</td>\n",
       "    </tr>\n",
       "    <tr>\n",
       "      <th>3</th>\n",
       "      <td>0.695652</td>\n",
       "      <td>236</td>\n",
       "      <td>19</td>\n",
       "      <td>0</td>\n",
       "      <td>80</td>\n",
       "      <td>114</td>\n",
       "      <td>0</td>\n",
       "    </tr>\n",
       "    <tr>\n",
       "      <th>4</th>\n",
       "      <td>0.750000</td>\n",
       "      <td>97</td>\n",
       "      <td>15</td>\n",
       "      <td>1</td>\n",
       "      <td>99</td>\n",
       "      <td>131</td>\n",
       "      <td>0</td>\n",
       "    </tr>\n",
       "  </tbody>\n",
       "</table>\n",
       "</div>"
      ],
      "text/plain": [
       "   fraction_relevant  item_id  iteration  reward  total_reward  visit  \\\n",
       "0           1.000000      194          8       1             3      2   \n",
       "1           0.647059        8         12       1            22     33   \n",
       "2           0.716049       97          4       1            58     80   \n",
       "3           0.695652      236         19       0            80    114   \n",
       "4           0.750000       97         15       1            99    131   \n",
       "\n",
       "   visitor_id  \n",
       "0           0  \n",
       "1           0  \n",
       "2           0  \n",
       "3           0  \n",
       "4           0  "
      ]
     },
     "execution_count": 39,
     "metadata": {},
     "output_type": "execute_result"
    }
   ],
   "source": [
    "thompson.head()"
   ]
  },
  {
   "cell_type": "markdown",
   "metadata": {},
   "source": [
    "### Let's visualize the Thompson Sampling output for a single run. We'll look at each movie's percentage of the total recommendations as the simulation progressed:"
   ]
  },
  {
   "cell_type": "code",
   "execution_count": 40,
   "metadata": {},
   "outputs": [],
   "source": [
    "# create a dataframe with running totals of how many times each recommendation was taken\n",
    "thompson_running_ttl = thompson.query('iteration == 0') \\\n",
    "                                .eval('selected = 1') \\\n",
    "                                .pivot(index='visit', columns='item_id', values='selected') \\\n",
    "                                .fillna(0) \\\n",
    "                                .cumsum(axis=0) \\\n",
    "                                .reset_index() \\\n",
    "                                .rename(columns=movie_titles)"
   ]
  },
  {
   "cell_type": "code",
   "execution_count": 41,
   "metadata": {},
   "outputs": [],
   "source": [
    "# scale the value by the visit number to get turn the running total into a percentage\n",
    "thompson_running_ttl.iloc[:,1:] = thompson_running_ttl.iloc[:,1:].div((thompson_running_ttl.visit + 1)/100, axis=0)"
   ]
  },
  {
   "cell_type": "code",
   "execution_count": 42,
   "metadata": {
    "scrolled": true
   },
   "outputs": [
    {
     "data": {
      "text/html": [
       "<div>\n",
       "<style scoped>\n",
       "    .dataframe tbody tr th:only-of-type {\n",
       "        vertical-align: middle;\n",
       "    }\n",
       "\n",
       "    .dataframe tbody tr th {\n",
       "        vertical-align: top;\n",
       "    }\n",
       "\n",
       "    .dataframe thead th {\n",
       "        text-align: right;\n",
       "    }\n",
       "</style>\n",
       "<table border=\"1\" class=\"dataframe\">\n",
       "  <thead>\n",
       "    <tr style=\"text-align: right;\">\n",
       "      <th>item_id</th>\n",
       "      <th>visit</th>\n",
       "      <th>Toy Story (1995)</th>\n",
       "      <th>Twelve Monkeys (1995)</th>\n",
       "      <th>Dead Man Walking (1995)</th>\n",
       "      <th>Mr. Holland's Opus (1995)</th>\n",
       "      <th>Braveheart (1995)</th>\n",
       "      <th>Birdcage, The (1996)</th>\n",
       "      <th>Apollo 13 (1995)</th>\n",
       "      <th>Star Wars (1977)</th>\n",
       "      <th>Pulp Fiction (1994)</th>\n",
       "      <th>...</th>\n",
       "      <th>Scream (1996)</th>\n",
       "      <th>Liar Liar (1997)</th>\n",
       "      <th>Air Force One (1997)</th>\n",
       "      <th>L.A. Confidential (1997)</th>\n",
       "      <th>Titanic (1997)</th>\n",
       "      <th>Schindler's List (1993)</th>\n",
       "      <th>Conspiracy Theory (1997)</th>\n",
       "      <th>Mission: Impossible (1996)</th>\n",
       "      <th>E.T. the Extra-Terrestrial (1982)</th>\n",
       "      <th>Saint, The (1997)</th>\n",
       "    </tr>\n",
       "  </thead>\n",
       "  <tbody>\n",
       "    <tr>\n",
       "      <th>0</th>\n",
       "      <td>0</td>\n",
       "      <td>0.0</td>\n",
       "      <td>0.0</td>\n",
       "      <td>0.0</td>\n",
       "      <td>0.0</td>\n",
       "      <td>0.0</td>\n",
       "      <td>0.0</td>\n",
       "      <td>0.0</td>\n",
       "      <td>0.0</td>\n",
       "      <td>0.0</td>\n",
       "      <td>...</td>\n",
       "      <td>100.000000</td>\n",
       "      <td>0.0</td>\n",
       "      <td>0.0</td>\n",
       "      <td>0.0</td>\n",
       "      <td>0.0</td>\n",
       "      <td>0.0</td>\n",
       "      <td>0.0</td>\n",
       "      <td>0.0</td>\n",
       "      <td>0.0</td>\n",
       "      <td>0.0</td>\n",
       "    </tr>\n",
       "    <tr>\n",
       "      <th>1</th>\n",
       "      <td>1</td>\n",
       "      <td>0.0</td>\n",
       "      <td>0.0</td>\n",
       "      <td>0.0</td>\n",
       "      <td>0.0</td>\n",
       "      <td>0.0</td>\n",
       "      <td>0.0</td>\n",
       "      <td>0.0</td>\n",
       "      <td>0.0</td>\n",
       "      <td>0.0</td>\n",
       "      <td>...</td>\n",
       "      <td>100.000000</td>\n",
       "      <td>0.0</td>\n",
       "      <td>0.0</td>\n",
       "      <td>0.0</td>\n",
       "      <td>0.0</td>\n",
       "      <td>0.0</td>\n",
       "      <td>0.0</td>\n",
       "      <td>0.0</td>\n",
       "      <td>0.0</td>\n",
       "      <td>0.0</td>\n",
       "    </tr>\n",
       "    <tr>\n",
       "      <th>2</th>\n",
       "      <td>2</td>\n",
       "      <td>0.0</td>\n",
       "      <td>0.0</td>\n",
       "      <td>0.0</td>\n",
       "      <td>0.0</td>\n",
       "      <td>0.0</td>\n",
       "      <td>0.0</td>\n",
       "      <td>0.0</td>\n",
       "      <td>0.0</td>\n",
       "      <td>0.0</td>\n",
       "      <td>...</td>\n",
       "      <td>66.666667</td>\n",
       "      <td>0.0</td>\n",
       "      <td>0.0</td>\n",
       "      <td>0.0</td>\n",
       "      <td>0.0</td>\n",
       "      <td>0.0</td>\n",
       "      <td>0.0</td>\n",
       "      <td>0.0</td>\n",
       "      <td>0.0</td>\n",
       "      <td>0.0</td>\n",
       "    </tr>\n",
       "    <tr>\n",
       "      <th>3</th>\n",
       "      <td>3</td>\n",
       "      <td>0.0</td>\n",
       "      <td>0.0</td>\n",
       "      <td>0.0</td>\n",
       "      <td>0.0</td>\n",
       "      <td>0.0</td>\n",
       "      <td>0.0</td>\n",
       "      <td>0.0</td>\n",
       "      <td>0.0</td>\n",
       "      <td>0.0</td>\n",
       "      <td>...</td>\n",
       "      <td>50.000000</td>\n",
       "      <td>0.0</td>\n",
       "      <td>0.0</td>\n",
       "      <td>0.0</td>\n",
       "      <td>0.0</td>\n",
       "      <td>0.0</td>\n",
       "      <td>0.0</td>\n",
       "      <td>0.0</td>\n",
       "      <td>0.0</td>\n",
       "      <td>0.0</td>\n",
       "    </tr>\n",
       "    <tr>\n",
       "      <th>4</th>\n",
       "      <td>4</td>\n",
       "      <td>0.0</td>\n",
       "      <td>0.0</td>\n",
       "      <td>0.0</td>\n",
       "      <td>0.0</td>\n",
       "      <td>0.0</td>\n",
       "      <td>0.0</td>\n",
       "      <td>0.0</td>\n",
       "      <td>0.0</td>\n",
       "      <td>0.0</td>\n",
       "      <td>...</td>\n",
       "      <td>40.000000</td>\n",
       "      <td>0.0</td>\n",
       "      <td>0.0</td>\n",
       "      <td>0.0</td>\n",
       "      <td>0.0</td>\n",
       "      <td>0.0</td>\n",
       "      <td>0.0</td>\n",
       "      <td>0.0</td>\n",
       "      <td>0.0</td>\n",
       "      <td>0.0</td>\n",
       "    </tr>\n",
       "  </tbody>\n",
       "</table>\n",
       "<p>5 rows × 51 columns</p>\n",
       "</div>"
      ],
      "text/plain": [
       "item_id  visit  Toy Story (1995)  Twelve Monkeys (1995)  \\\n",
       "0            0               0.0                    0.0   \n",
       "1            1               0.0                    0.0   \n",
       "2            2               0.0                    0.0   \n",
       "3            3               0.0                    0.0   \n",
       "4            4               0.0                    0.0   \n",
       "\n",
       "item_id  Dead Man Walking (1995)  Mr. Holland's Opus (1995)  \\\n",
       "0                            0.0                        0.0   \n",
       "1                            0.0                        0.0   \n",
       "2                            0.0                        0.0   \n",
       "3                            0.0                        0.0   \n",
       "4                            0.0                        0.0   \n",
       "\n",
       "item_id  Braveheart (1995)  Birdcage, The (1996)  Apollo 13 (1995)  \\\n",
       "0                      0.0                   0.0               0.0   \n",
       "1                      0.0                   0.0               0.0   \n",
       "2                      0.0                   0.0               0.0   \n",
       "3                      0.0                   0.0               0.0   \n",
       "4                      0.0                   0.0               0.0   \n",
       "\n",
       "item_id  Star Wars (1977)  Pulp Fiction (1994)  ...  Scream (1996)  \\\n",
       "0                     0.0                  0.0  ...     100.000000   \n",
       "1                     0.0                  0.0  ...     100.000000   \n",
       "2                     0.0                  0.0  ...      66.666667   \n",
       "3                     0.0                  0.0  ...      50.000000   \n",
       "4                     0.0                  0.0  ...      40.000000   \n",
       "\n",
       "item_id  Liar Liar (1997)  Air Force One (1997)  L.A. Confidential (1997)  \\\n",
       "0                     0.0                   0.0                       0.0   \n",
       "1                     0.0                   0.0                       0.0   \n",
       "2                     0.0                   0.0                       0.0   \n",
       "3                     0.0                   0.0                       0.0   \n",
       "4                     0.0                   0.0                       0.0   \n",
       "\n",
       "item_id  Titanic (1997)  Schindler's List (1993)  Conspiracy Theory (1997)  \\\n",
       "0                   0.0                      0.0                       0.0   \n",
       "1                   0.0                      0.0                       0.0   \n",
       "2                   0.0                      0.0                       0.0   \n",
       "3                   0.0                      0.0                       0.0   \n",
       "4                   0.0                      0.0                       0.0   \n",
       "\n",
       "item_id  Mission: Impossible (1996)  E.T. the Extra-Terrestrial (1982)  \\\n",
       "0                               0.0                                0.0   \n",
       "1                               0.0                                0.0   \n",
       "2                               0.0                                0.0   \n",
       "3                               0.0                                0.0   \n",
       "4                               0.0                                0.0   \n",
       "\n",
       "item_id  Saint, The (1997)  \n",
       "0                      0.0  \n",
       "1                      0.0  \n",
       "2                      0.0  \n",
       "3                      0.0  \n",
       "4                      0.0  \n",
       "\n",
       "[5 rows x 51 columns]"
      ]
     },
     "execution_count": 42,
     "metadata": {},
     "output_type": "execute_result"
    }
   ],
   "source": [
    "thompson_running_ttl.head()"
   ]
  },
  {
   "cell_type": "code",
   "execution_count": 45,
   "metadata": {},
   "outputs": [
    {
     "data": {
      "text/plain": [
       "Index(['visit', 'Toy Story (1995)', 'Twelve Monkeys (1995)',\n",
       "       'Dead Man Walking (1995)', 'Mr. Holland's Opus (1995)',\n",
       "       'Braveheart (1995)', 'Birdcage, The (1996)', 'Apollo 13 (1995)',\n",
       "       'Star Wars (1977)', 'Pulp Fiction (1994)',\n",
       "       'Shawshank Redemption, The (1994)', 'Forrest Gump (1994)',\n",
       "       'Fugitive, The (1993)', 'Terminator 2: Judgment Day (1991)',\n",
       "       'Silence of the Lambs, The (1991)', 'Fargo (1996)', 'Rock, The (1996)',\n",
       "       'Twister (1996)', 'Independence Day (ID4) (1996)',\n",
       "       'Godfather, The (1972)', 'Willy Wonka and the Chocolate Factory (1971)',\n",
       "       'Monty Python and the Holy Grail (1974)',\n",
       "       'Empire Strikes Back, The (1980)', 'Princess Bride, The (1987)',\n",
       "       'Raiders of the Lost Ark (1981)', 'Aliens (1986)',\n",
       "       'Return of the Jedi (1983)', 'Alien (1979)', 'Terminator, The (1984)',\n",
       "       'Groundhog Day (1993)', 'Back to the Future (1985)',\n",
       "       'Indiana Jones and the Last Crusade (1989)',\n",
       "       'When Harry Met Sally... (1989)', 'Star Trek: First Contact (1996)',\n",
       "       'Jaws (1975)', 'Jerry Maguire (1996)', 'Men in Black (1997)',\n",
       "       'Contact (1997)', 'Full Monty, The (1997)', 'Leaving Las Vegas (1995)',\n",
       "       'English Patient, The (1996)', 'Scream (1996)', 'Liar Liar (1997)',\n",
       "       'Air Force One (1997)', 'L.A. Confidential (1997)', 'Titanic (1997)',\n",
       "       'Schindler's List (1993)', 'Conspiracy Theory (1997)',\n",
       "       'Mission: Impossible (1996)', 'E.T. the Extra-Terrestrial (1982)',\n",
       "       'Saint, The (1997)'],\n",
       "      dtype='object', name='item_id')"
      ]
     },
     "execution_count": 45,
     "metadata": {},
     "output_type": "execute_result"
    }
   ],
   "source": [
    "thompson_running_ttl.columns"
   ]
  },
  {
   "cell_type": "code",
   "execution_count": 70,
   "metadata": {},
   "outputs": [
    {
     "data": {
      "text/plain": [
       "[\"Schindler's List (1993)\",\n",
       " 'Shawshank Redemption, The (1994)',\n",
       " 'Star Wars (1977)',\n",
       " 'Silence of the Lambs, The (1991)',\n",
       " 'Godfather, The (1972)',\n",
       " 'Raiders of the Lost Ark (1981)',\n",
       " 'Titanic (1997)',\n",
       " 'Empire Strikes Back, The (1980)',\n",
       " 'Princess Bride, The (1987)',\n",
       " 'L.A. Confidential (1997)',\n",
       " 'visit']"
      ]
     },
     "execution_count": 70,
     "metadata": {},
     "output_type": "execute_result"
    }
   ],
   "source": [
    "movie_list = list(top_n_movie_ratings.groupby(['movie_title'])['rating'].mean().sort_values(ascending=False).keys()[:10])\n",
    "movie_list.append('visit')\n",
    "movie_list"
   ]
  },
  {
   "cell_type": "code",
   "execution_count": 71,
   "metadata": {},
   "outputs": [],
   "source": [
    "thompson_running_ttl = thompson_running_ttl[movie_list]"
   ]
  },
  {
   "cell_type": "code",
   "execution_count": 76,
   "metadata": {},
   "outputs": [
    {
     "data": {
      "text/html": [
       "<div>\n",
       "<style scoped>\n",
       "    .dataframe tbody tr th:only-of-type {\n",
       "        vertical-align: middle;\n",
       "    }\n",
       "\n",
       "    .dataframe tbody tr th {\n",
       "        vertical-align: top;\n",
       "    }\n",
       "\n",
       "    .dataframe thead th {\n",
       "        text-align: right;\n",
       "    }\n",
       "</style>\n",
       "<table border=\"1\" class=\"dataframe\">\n",
       "  <thead>\n",
       "    <tr style=\"text-align: right;\">\n",
       "      <th>item_id</th>\n",
       "      <th>Schindler's List (1993)</th>\n",
       "      <th>Shawshank Redemption, The (1994)</th>\n",
       "      <th>Star Wars (1977)</th>\n",
       "      <th>Silence of the Lambs, The (1991)</th>\n",
       "      <th>Godfather, The (1972)</th>\n",
       "      <th>Raiders of the Lost Ark (1981)</th>\n",
       "      <th>Titanic (1997)</th>\n",
       "      <th>Empire Strikes Back, The (1980)</th>\n",
       "      <th>Princess Bride, The (1987)</th>\n",
       "      <th>L.A. Confidential (1997)</th>\n",
       "      <th>visit</th>\n",
       "    </tr>\n",
       "  </thead>\n",
       "  <tbody>\n",
       "    <tr>\n",
       "      <th>0</th>\n",
       "      <td>0.0</td>\n",
       "      <td>0.0</td>\n",
       "      <td>0.0</td>\n",
       "      <td>0.0</td>\n",
       "      <td>0.0</td>\n",
       "      <td>0.0</td>\n",
       "      <td>0.0</td>\n",
       "      <td>0.0</td>\n",
       "      <td>0.0</td>\n",
       "      <td>0.0</td>\n",
       "      <td>0</td>\n",
       "    </tr>\n",
       "    <tr>\n",
       "      <th>1</th>\n",
       "      <td>0.0</td>\n",
       "      <td>0.0</td>\n",
       "      <td>0.0</td>\n",
       "      <td>0.0</td>\n",
       "      <td>0.0</td>\n",
       "      <td>0.0</td>\n",
       "      <td>0.0</td>\n",
       "      <td>0.0</td>\n",
       "      <td>0.0</td>\n",
       "      <td>0.0</td>\n",
       "      <td>1</td>\n",
       "    </tr>\n",
       "    <tr>\n",
       "      <th>2</th>\n",
       "      <td>0.0</td>\n",
       "      <td>0.0</td>\n",
       "      <td>0.0</td>\n",
       "      <td>0.0</td>\n",
       "      <td>0.0</td>\n",
       "      <td>0.0</td>\n",
       "      <td>0.0</td>\n",
       "      <td>0.0</td>\n",
       "      <td>0.0</td>\n",
       "      <td>0.0</td>\n",
       "      <td>2</td>\n",
       "    </tr>\n",
       "    <tr>\n",
       "      <th>3</th>\n",
       "      <td>0.0</td>\n",
       "      <td>0.0</td>\n",
       "      <td>0.0</td>\n",
       "      <td>0.0</td>\n",
       "      <td>0.0</td>\n",
       "      <td>0.0</td>\n",
       "      <td>0.0</td>\n",
       "      <td>0.0</td>\n",
       "      <td>0.0</td>\n",
       "      <td>0.0</td>\n",
       "      <td>3</td>\n",
       "    </tr>\n",
       "    <tr>\n",
       "      <th>4</th>\n",
       "      <td>0.0</td>\n",
       "      <td>0.0</td>\n",
       "      <td>0.0</td>\n",
       "      <td>0.0</td>\n",
       "      <td>0.0</td>\n",
       "      <td>0.0</td>\n",
       "      <td>0.0</td>\n",
       "      <td>0.0</td>\n",
       "      <td>0.0</td>\n",
       "      <td>0.0</td>\n",
       "      <td>4</td>\n",
       "    </tr>\n",
       "  </tbody>\n",
       "</table>\n",
       "</div>"
      ],
      "text/plain": [
       "item_id  Schindler's List (1993)  Shawshank Redemption, The (1994)  \\\n",
       "0                            0.0                               0.0   \n",
       "1                            0.0                               0.0   \n",
       "2                            0.0                               0.0   \n",
       "3                            0.0                               0.0   \n",
       "4                            0.0                               0.0   \n",
       "\n",
       "item_id  Star Wars (1977)  Silence of the Lambs, The (1991)  \\\n",
       "0                     0.0                               0.0   \n",
       "1                     0.0                               0.0   \n",
       "2                     0.0                               0.0   \n",
       "3                     0.0                               0.0   \n",
       "4                     0.0                               0.0   \n",
       "\n",
       "item_id  Godfather, The (1972)  Raiders of the Lost Ark (1981)  \\\n",
       "0                          0.0                             0.0   \n",
       "1                          0.0                             0.0   \n",
       "2                          0.0                             0.0   \n",
       "3                          0.0                             0.0   \n",
       "4                          0.0                             0.0   \n",
       "\n",
       "item_id  Titanic (1997)  Empire Strikes Back, The (1980)  \\\n",
       "0                   0.0                              0.0   \n",
       "1                   0.0                              0.0   \n",
       "2                   0.0                              0.0   \n",
       "3                   0.0                              0.0   \n",
       "4                   0.0                              0.0   \n",
       "\n",
       "item_id  Princess Bride, The (1987)  L.A. Confidential (1997)  visit  \n",
       "0                               0.0                       0.0      0  \n",
       "1                               0.0                       0.0      1  \n",
       "2                               0.0                       0.0      2  \n",
       "3                               0.0                       0.0      3  \n",
       "4                               0.0                       0.0      4  "
      ]
     },
     "execution_count": 76,
     "metadata": {},
     "output_type": "execute_result"
    }
   ],
   "source": [
    "thompson_running_ttl.head()"
   ]
  },
  {
   "cell_type": "code",
   "execution_count": 81,
   "metadata": {},
   "outputs": [
    {
     "data": {
      "text/plain": [
       "[\"Schindler's List (1993)\",\n",
       " 'Shawshank Redemption, The (1994)',\n",
       " 'Star Wars (1977)',\n",
       " 'Silence of the Lambs, The (1991)',\n",
       " 'Godfather, The (1972)',\n",
       " 'Raiders of the Lost Ark (1981)',\n",
       " 'Titanic (1997)',\n",
       " 'Empire Strikes Back, The (1980)',\n",
       " 'Princess Bride, The (1987)',\n",
       " 'L.A. Confidential (1997)']"
      ]
     },
     "execution_count": 81,
     "metadata": {},
     "output_type": "execute_result"
    }
   ],
   "source": [
    "thompson_running_ttl.iloc[:,:10].columns.values.tolist()"
   ]
  },
  {
   "cell_type": "code",
   "execution_count": null,
   "metadata": {},
   "outputs": [],
   "source": []
  },
  {
   "cell_type": "code",
   "execution_count": 89,
   "metadata": {
    "scrolled": false
   },
   "outputs": [
    {
     "data": {
      "image/png": "[encoded data removed]",
      "text/plain": [
       "<Figure size 864x576 with 1 Axes>"
      ]
     },
     "metadata": {},
     "output_type": "display_data"
    }
   ],
   "source": [
    "sns.set_palette(color_blind_palette_10)\n",
    "\n",
    "fig, ax = plt.subplots(figsize=(12,8))\n",
    "\n",
    "ax.stackplot(thompson_running_ttl.visit,\n",
    "             thompson_running_ttl.iloc[:,:10].T,\n",
    "             labels=thompson_running_ttl.iloc[:,:10].columns.values.tolist()\n",
    "             ,colors=[color_map[x] for x in thompson_running_ttl.iloc[:,:10].columns.values]\n",
    "            )\n",
    "\n",
    "ax.set_xlim(0,1000)\n",
    "ax.set_xticks(range(0, 1100, 250))\n",
    "\n",
    "ax.set_title('Thompson Sampling Algorithm')\n",
    "ax.set_xlabel('Recommendation #')\n",
    "ax.set_ylabel('% of Recommendations')\n",
    "\n",
    "#lgd = plt.legend( loc='best')\n",
    "#, borderaxespad=0., labelspacing=-2.3)\n",
    "\n",
    "#bbox_to_anchor=(1.02, 0.15),\n",
    "#lgd = plt.legend(legend.loc ='best')\n",
    "\n",
    "\n",
    "ax.set_facecolor('w')\n",
    "\n",
    "plt.tight_layout()\n",
    "plt.show()"
   ]
  }
 ],
 "metadata": {
  "kernelspec": {
   "display_name": "Python 3",
   "language": "python",
   "name": "python3"
  },
  "language_info": {
   "codemirror_mode": {
    "name": "ipython",
    "version": 3
   },
   "file_extension": ".py",
   "mimetype": "text/x-python",
   "name": "python",
   "nbconvert_exporter": "python",
   "pygments_lexer": "ipython3",
   "version": "3.6.8"
  }
 },
 "nbformat": 4,
 "nbformat_minor": 2
}
